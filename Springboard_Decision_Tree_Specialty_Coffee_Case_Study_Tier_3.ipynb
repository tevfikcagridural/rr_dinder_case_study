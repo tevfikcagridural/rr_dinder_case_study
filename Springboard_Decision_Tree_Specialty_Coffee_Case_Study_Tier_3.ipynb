{
  "nbformat": 4,
  "nbformat_minor": 0,
  "metadata": {
    "colab": {
      "name": "Springboard Decision Tree Specialty Coffee Case Study - Tier 3",
      "provenance": [],
      "collapsed_sections": []
    },
    "kernelspec": {
      "display_name": "Python 3",
      "language": "python",
      "name": "python3"
    },
    "language_info": {
      "codemirror_mode": {
        "name": "ipython",
        "version": 3
      },
      "file_extension": ".py",
      "mimetype": "text/x-python",
      "name": "python",
      "nbconvert_exporter": "python",
      "pygments_lexer": "ipython3",
      "version": "3.8.3"
    }
  },
  "cells": [
    {
      "cell_type": "code",
      "metadata": {
        "colab": {
          "base_uri": "https://localhost:8080/"
        },
        "id": "9qqDuH9PFvif",
        "outputId": "355d39c2-01d5-42a8-dbf2-dbac9e471966"
      },
      "source": [
        "from google.colab import drive\n",
        "drive.mount('/content/drive')"
      ],
      "execution_count": 86,
      "outputs": [
        {
          "output_type": "stream",
          "text": [
            "Drive already mounted at /content/drive; to attempt to forcibly remount, call drive.mount(\"/content/drive\", force_remount=True).\n"
          ],
          "name": "stdout"
        }
      ]
    },
    {
      "cell_type": "markdown",
      "metadata": {
        "id": "Jm0w3zN4DuVK"
      },
      "source": [
        "# **Springboard Decision Tree Specialty Coffee Case Study - Tier 3**\n",
        "\n",
        "\n"
      ]
    },
    {
      "cell_type": "markdown",
      "metadata": {
        "id": "BhqpAY7GDuVN"
      },
      "source": [
        "# The Scenario\n",
        "\n",
        "Imagine you've just finished the Springboard Data Science Career Track course, and have been hired by a rising popular specialty coffee company - RR Diner Coffee - as a data scientist. Congratulations!\n",
        "\n",
        "RR Diner Coffee sells two types of thing:\n",
        "- specialty coffee beans, in bulk (by the kilogram only) \n",
        "- coffee equipment and merchandise (grinders, brewing equipment, mugs, books, t-shirts).\n",
        "\n",
        "RR Diner Coffee has three stores, two in Europe and one in the USA. The flagshap store is in the USA, and everything is quality assessed there, before being shipped out. Customers further away from the USA flagship store have higher shipping charges. \n",
        "\n",
        "You've been taken on at RR Diner Coffee because the company are turning towards using data science and machine learning to systematically make decisions about which coffee farmers they should strike deals with. \n",
        "\n",
        "RR Diner Coffee typically buys coffee from farmers, processes it on site, brings it back to the USA, roasts it, packages it, markets it, and ships it (only in bulk, and after quality assurance) to customers internationally. These customers all own coffee shops in major cities like New York, Paris, London, Hong Kong, Tokyo, and Berlin. \n",
        "\n",
        "Now, RR Diner Coffee has a decision about whether to strike a deal with a legendary coffee farm (known as the **Hidden Farm**) in rural China: there are rumours their coffee tastes of lychee and dark chocolate, while also being as sweet as apple juice. \n",
        "\n",
        "It's a risky decision, as the deal will be expensive, and the coffee might not be bought by customers. The stakes are high: times are tough, stocks are low, farmers are reverting to old deals with the larger enterprises and the publicity of selling *Hidden Farm* coffee could save the RR Diner Coffee business. \n",
        "\n",
        "Your first job, then, is ***to build a decision tree to predict how many units of the Hidden Farm Chinese coffee will be purchased by RR Diner Coffee's most loyal customers.*** \n",
        "\n",
        "To this end, you and your team have conducted a survey of 710 of the most loyal RR Diner Coffee customers, collecting data on the customers':\n",
        "- age\n",
        "- gender \n",
        "- salary \n",
        "- whether they have bought at least one RR Diner Coffee product online\n",
        "- their distance from the flagship store in the USA (standardized to a number between 0 and 11) \n",
        "- how much they spent on RR Diner Coffee products on the week of the survey \n",
        "- how much they spent on RR Diner Coffee products in the month preeding the survey\n",
        "- the number of RR Diner coffee bean shipments each customer has ordered over the preceding year. \n",
        "\n",
        "You also asked each customer participating in the survey whether they would buy the Hidden Farm coffee, and some (but not all) of the customers gave responses to that question. \n",
        "\n",
        "You sit back and think: if more than 70% of the interviewed customers are likely to buy the Hidden Farm coffee, you will strike the deal with the local Hidden Farm farmers and sell the coffee. Otherwise, you won't strike the deal and the Hidden Farm coffee will remain in legends only. There's some doubt in your mind about whether 70% is a reasonable threshold, but it'll do for the moment. \n",
        "\n",
        "To solve the problem, then, you will build a decision tree to implement a classification solution. \n",
        "\n",
        "\n",
        "-------------------------------\n",
        "As ever, this notebook is **tiered**, meaning you can elect that tier that is right for your confidence and skill level. There are 3 tiers, with tier 1 being the easiest and tier 3 being the hardest. This is ***tier 3***, so it will be challenging. \n",
        "\n",
        "**1. Sourcing and loading** \n",
        "- Import packages\n",
        "- Load data\n",
        "- Explore the data\n",
        "\n",
        " \n",
        "**2. Cleaning, transforming and visualizing**\n",
        "- Cleaning the data\n",
        "- Train/test split\n",
        "  \n",
        "  \n",
        "**3. Modelling** \n",
        "- Model 1: Entropy model - no max_depth\n",
        "- Model 2: Gini impurity model - no max_depth\n",
        "- Model 3: Entropy model - max depth 3\n",
        "- Model 4: Gini impurity model - max depth 3\n",
        "\n",
        "\n",
        "**4. Evaluating and concluding** \n",
        "- How many customers will buy Hidden Farm coffee?\n",
        "- Decision\n",
        "\n",
        "**5. Random Forest** \n",
        "- Import necessary modules\n",
        "- Model\n",
        "- Revise conclusion\n",
        "    "
      ]
    },
    {
      "cell_type": "markdown",
      "metadata": {
        "id": "nciXGXtCDuVO"
      },
      "source": [
        "# 0. Overview\n",
        "\n",
        "This notebook uses decision trees to determine whether the factors of salary, gender, age, how much money the customer spent last week and during the preceding month on RR Diner Coffee products, how many kilogram coffee bags the customer bought over the last year, whether they have bought at least one RR Diner Coffee product online, and their distance from the flagship store in the USA, could predict whether customers would purchase the Hidden Farm coffee if a deal with its farmers were struck. "
      ]
    },
    {
      "cell_type": "markdown",
      "metadata": {
        "id": "5fSgD2h9DuVP"
      },
      "source": [
        "# 1. Sourcing and loading\n",
        "## 1a. Import Packages"
      ]
    },
    {
      "cell_type": "code",
      "metadata": {
        "id": "CfGkTcLvDuVQ"
      },
      "source": [
        "import pandas as pd\n",
        "import numpy as np\n",
        "from sklearn import tree, metrics\n",
        "from sklearn.model_selection import train_test_split\n",
        "import seaborn as sns\n",
        "import matplotlib.pyplot as plt\n",
        "from io import StringIO  \n",
        "from IPython.display import Image  \n",
        "import pydotplus"
      ],
      "execution_count": 87,
      "outputs": []
    },
    {
      "cell_type": "markdown",
      "metadata": {
        "id": "ZLgxyhNrDuVT"
      },
      "source": [
        "## 1b. Load data "
      ]
    },
    {
      "cell_type": "code",
      "metadata": {
        "id": "chW2ozlnDuVU"
      },
      "source": [
        "# Read in the data to a variable called coffeeData\n",
        "coffeeData = pd.read_csv('/content/drive/MyDrive/Data Science Career Track/Unit 14/RRDinerCoffeeData.csv') "
      ],
      "execution_count": 88,
      "outputs": []
    },
    {
      "cell_type": "markdown",
      "metadata": {
        "id": "qnMVYf2NDuVW"
      },
      "source": [
        "## 1c. Explore the data"
      ]
    },
    {
      "cell_type": "markdown",
      "metadata": {
        "id": "U5Qm4obyDuVX"
      },
      "source": [
        "As we've seen, exploration entails doing things like checking out the **initial appearance** of the data with head(), the **dimensions** of our data with .shape, the **data types** of the variables with .info(), the **number of non-null values**, how much **memory** is being used to store the data, and finally the major summary statistcs capturing **central tendancy, dispersion and the null-excluding shape of the dataset's distribution**. \n",
        "\n",
        "How much of this can you do yourself by this point in the course? Have a real go. "
      ]
    },
    {
      "cell_type": "code",
      "metadata": {
        "colab": {
          "base_uri": "https://localhost:8080/",
          "height": 206
        },
        "id": "cHEKFT4SDuVY",
        "outputId": "f71a105f-fab5-4d79-9d8f-699fdbe160b7"
      },
      "source": [
        "# Call head() on your data \n",
        "coffeeData.head()"
      ],
      "execution_count": 89,
      "outputs": [
        {
          "output_type": "execute_result",
          "data": {
            "text/html": [
              "<div>\n",
              "<style scoped>\n",
              "    .dataframe tbody tr th:only-of-type {\n",
              "        vertical-align: middle;\n",
              "    }\n",
              "\n",
              "    .dataframe tbody tr th {\n",
              "        vertical-align: top;\n",
              "    }\n",
              "\n",
              "    .dataframe thead th {\n",
              "        text-align: right;\n",
              "    }\n",
              "</style>\n",
              "<table border=\"1\" class=\"dataframe\">\n",
              "  <thead>\n",
              "    <tr style=\"text-align: right;\">\n",
              "      <th></th>\n",
              "      <th>Age</th>\n",
              "      <th>Gender</th>\n",
              "      <th>num_coffeeBags_per_year</th>\n",
              "      <th>spent_week</th>\n",
              "      <th>spent_month</th>\n",
              "      <th>SlrAY</th>\n",
              "      <th>Distance</th>\n",
              "      <th>Online</th>\n",
              "      <th>Decision</th>\n",
              "    </tr>\n",
              "  </thead>\n",
              "  <tbody>\n",
              "    <tr>\n",
              "      <th>0</th>\n",
              "      <td>36</td>\n",
              "      <td>Female</td>\n",
              "      <td>0</td>\n",
              "      <td>24</td>\n",
              "      <td>73</td>\n",
              "      <td>42789</td>\n",
              "      <td>0.003168</td>\n",
              "      <td>0</td>\n",
              "      <td>1.0</td>\n",
              "    </tr>\n",
              "    <tr>\n",
              "      <th>1</th>\n",
              "      <td>24</td>\n",
              "      <td>Male</td>\n",
              "      <td>0</td>\n",
              "      <td>44</td>\n",
              "      <td>164</td>\n",
              "      <td>74035</td>\n",
              "      <td>0.520906</td>\n",
              "      <td>0</td>\n",
              "      <td>NaN</td>\n",
              "    </tr>\n",
              "    <tr>\n",
              "      <th>2</th>\n",
              "      <td>24</td>\n",
              "      <td>Male</td>\n",
              "      <td>0</td>\n",
              "      <td>39</td>\n",
              "      <td>119</td>\n",
              "      <td>30563</td>\n",
              "      <td>0.916005</td>\n",
              "      <td>1</td>\n",
              "      <td>1.0</td>\n",
              "    </tr>\n",
              "    <tr>\n",
              "      <th>3</th>\n",
              "      <td>20</td>\n",
              "      <td>Male</td>\n",
              "      <td>0</td>\n",
              "      <td>30</td>\n",
              "      <td>107</td>\n",
              "      <td>13166</td>\n",
              "      <td>0.932098</td>\n",
              "      <td>1</td>\n",
              "      <td>NaN</td>\n",
              "    </tr>\n",
              "    <tr>\n",
              "      <th>4</th>\n",
              "      <td>24</td>\n",
              "      <td>Female</td>\n",
              "      <td>0</td>\n",
              "      <td>20</td>\n",
              "      <td>36</td>\n",
              "      <td>14244</td>\n",
              "      <td>0.965881</td>\n",
              "      <td>0</td>\n",
              "      <td>1.0</td>\n",
              "    </tr>\n",
              "  </tbody>\n",
              "</table>\n",
              "</div>"
            ],
            "text/plain": [
              "   Age  Gender  num_coffeeBags_per_year  ...  Distance  Online  Decision\n",
              "0   36  Female                        0  ...  0.003168       0       1.0\n",
              "1   24    Male                        0  ...  0.520906       0       NaN\n",
              "2   24    Male                        0  ...  0.916005       1       1.0\n",
              "3   20    Male                        0  ...  0.932098       1       NaN\n",
              "4   24  Female                        0  ...  0.965881       0       1.0\n",
              "\n",
              "[5 rows x 9 columns]"
            ]
          },
          "metadata": {
            "tags": []
          },
          "execution_count": 89
        }
      ]
    },
    {
      "cell_type": "code",
      "metadata": {
        "colab": {
          "base_uri": "https://localhost:8080/"
        },
        "id": "rDshwA7tDuVa",
        "outputId": "eb45f6af-0427-47a5-e6f6-663e4effb0b3"
      },
      "source": [
        "# Call .shape on your data\n",
        "coffeeData.shape"
      ],
      "execution_count": 90,
      "outputs": [
        {
          "output_type": "execute_result",
          "data": {
            "text/plain": [
              "(702, 9)"
            ]
          },
          "metadata": {
            "tags": []
          },
          "execution_count": 90
        }
      ]
    },
    {
      "cell_type": "code",
      "metadata": {
        "colab": {
          "base_uri": "https://localhost:8080/"
        },
        "id": "iCxo0tomDuVc",
        "outputId": "55c9d092-1464-4a9e-e05e-fa512f42343e"
      },
      "source": [
        "# Call info() on your data\n",
        "coffeeData.info() "
      ],
      "execution_count": 91,
      "outputs": [
        {
          "output_type": "stream",
          "text": [
            "<class 'pandas.core.frame.DataFrame'>\n",
            "RangeIndex: 702 entries, 0 to 701\n",
            "Data columns (total 9 columns):\n",
            " #   Column                   Non-Null Count  Dtype  \n",
            "---  ------                   --------------  -----  \n",
            " 0   Age                      702 non-null    int64  \n",
            " 1   Gender                   702 non-null    object \n",
            " 2   num_coffeeBags_per_year  702 non-null    int64  \n",
            " 3   spent_week               702 non-null    int64  \n",
            " 4   spent_month              702 non-null    int64  \n",
            " 5   SlrAY                    702 non-null    int64  \n",
            " 6   Distance                 702 non-null    float64\n",
            " 7   Online                   702 non-null    int64  \n",
            " 8   Decision                 474 non-null    float64\n",
            "dtypes: float64(2), int64(6), object(1)\n",
            "memory usage: 49.5+ KB\n"
          ],
          "name": "stdout"
        }
      ]
    },
    {
      "cell_type": "code",
      "metadata": {
        "colab": {
          "base_uri": "https://localhost:8080/",
          "height": 300
        },
        "id": "t0ZdmaUeDuVe",
        "outputId": "b26487f3-81c7-403d-e9b2-6f0a9bbbf3ee"
      },
      "source": [
        "# Call describe() on your data to get the relevant summary statistics for your data \n",
        "coffeeData.describe()"
      ],
      "execution_count": 92,
      "outputs": [
        {
          "output_type": "execute_result",
          "data": {
            "text/html": [
              "<div>\n",
              "<style scoped>\n",
              "    .dataframe tbody tr th:only-of-type {\n",
              "        vertical-align: middle;\n",
              "    }\n",
              "\n",
              "    .dataframe tbody tr th {\n",
              "        vertical-align: top;\n",
              "    }\n",
              "\n",
              "    .dataframe thead th {\n",
              "        text-align: right;\n",
              "    }\n",
              "</style>\n",
              "<table border=\"1\" class=\"dataframe\">\n",
              "  <thead>\n",
              "    <tr style=\"text-align: right;\">\n",
              "      <th></th>\n",
              "      <th>Age</th>\n",
              "      <th>num_coffeeBags_per_year</th>\n",
              "      <th>spent_week</th>\n",
              "      <th>spent_month</th>\n",
              "      <th>SlrAY</th>\n",
              "      <th>Distance</th>\n",
              "      <th>Online</th>\n",
              "      <th>Decision</th>\n",
              "    </tr>\n",
              "  </thead>\n",
              "  <tbody>\n",
              "    <tr>\n",
              "      <th>count</th>\n",
              "      <td>702.000000</td>\n",
              "      <td>702.000000</td>\n",
              "      <td>702.000000</td>\n",
              "      <td>702.000000</td>\n",
              "      <td>702.000000</td>\n",
              "      <td>702.000000</td>\n",
              "      <td>702.000000</td>\n",
              "      <td>474.000000</td>\n",
              "    </tr>\n",
              "    <tr>\n",
              "      <th>mean</th>\n",
              "      <td>34.243590</td>\n",
              "      <td>2.710826</td>\n",
              "      <td>32.853276</td>\n",
              "      <td>107.923077</td>\n",
              "      <td>43819.843305</td>\n",
              "      <td>4.559186</td>\n",
              "      <td>0.531339</td>\n",
              "      <td>0.639241</td>\n",
              "    </tr>\n",
              "    <tr>\n",
              "      <th>std</th>\n",
              "      <td>13.927945</td>\n",
              "      <td>1.593629</td>\n",
              "      <td>15.731878</td>\n",
              "      <td>55.348485</td>\n",
              "      <td>26192.626943</td>\n",
              "      <td>3.116275</td>\n",
              "      <td>0.499373</td>\n",
              "      <td>0.480728</td>\n",
              "    </tr>\n",
              "    <tr>\n",
              "      <th>min</th>\n",
              "      <td>16.000000</td>\n",
              "      <td>0.000000</td>\n",
              "      <td>0.000000</td>\n",
              "      <td>0.000000</td>\n",
              "      <td>1617.000000</td>\n",
              "      <td>0.003168</td>\n",
              "      <td>0.000000</td>\n",
              "      <td>0.000000</td>\n",
              "    </tr>\n",
              "    <tr>\n",
              "      <th>25%</th>\n",
              "      <td>23.000000</td>\n",
              "      <td>1.000000</td>\n",
              "      <td>24.250000</td>\n",
              "      <td>62.000000</td>\n",
              "      <td>22812.250000</td>\n",
              "      <td>1.877812</td>\n",
              "      <td>0.000000</td>\n",
              "      <td>0.000000</td>\n",
              "    </tr>\n",
              "    <tr>\n",
              "      <th>50%</th>\n",
              "      <td>28.000000</td>\n",
              "      <td>3.000000</td>\n",
              "      <td>36.000000</td>\n",
              "      <td>113.500000</td>\n",
              "      <td>41975.000000</td>\n",
              "      <td>4.196167</td>\n",
              "      <td>1.000000</td>\n",
              "      <td>1.000000</td>\n",
              "    </tr>\n",
              "    <tr>\n",
              "      <th>75%</th>\n",
              "      <td>46.000000</td>\n",
              "      <td>4.000000</td>\n",
              "      <td>43.000000</td>\n",
              "      <td>150.750000</td>\n",
              "      <td>60223.000000</td>\n",
              "      <td>6.712022</td>\n",
              "      <td>1.000000</td>\n",
              "      <td>1.000000</td>\n",
              "    </tr>\n",
              "    <tr>\n",
              "      <th>max</th>\n",
              "      <td>90.000000</td>\n",
              "      <td>5.000000</td>\n",
              "      <td>62.000000</td>\n",
              "      <td>210.000000</td>\n",
              "      <td>182058.000000</td>\n",
              "      <td>10.986203</td>\n",
              "      <td>1.000000</td>\n",
              "      <td>1.000000</td>\n",
              "    </tr>\n",
              "  </tbody>\n",
              "</table>\n",
              "</div>"
            ],
            "text/plain": [
              "              Age  num_coffeeBags_per_year  ...      Online    Decision\n",
              "count  702.000000               702.000000  ...  702.000000  474.000000\n",
              "mean    34.243590                 2.710826  ...    0.531339    0.639241\n",
              "std     13.927945                 1.593629  ...    0.499373    0.480728\n",
              "min     16.000000                 0.000000  ...    0.000000    0.000000\n",
              "25%     23.000000                 1.000000  ...    0.000000    0.000000\n",
              "50%     28.000000                 3.000000  ...    1.000000    1.000000\n",
              "75%     46.000000                 4.000000  ...    1.000000    1.000000\n",
              "max     90.000000                 5.000000  ...    1.000000    1.000000\n",
              "\n",
              "[8 rows x 8 columns]"
            ]
          },
          "metadata": {
            "tags": []
          },
          "execution_count": 92
        }
      ]
    },
    {
      "cell_type": "markdown",
      "metadata": {
        "id": "INkujJ6QDuVg"
      },
      "source": [
        "# 2. Cleaning, transforming and visualizing\n",
        "## 2a. Cleaning the data"
      ]
    },
    {
      "cell_type": "markdown",
      "metadata": {
        "id": "wIMW_rbdDuVh"
      },
      "source": [
        "Some datasets don't require any cleaning, but almost all do. This one does. We need to replace '1.0' and '0.0' in the 'Decision' column by 'YES' and 'NO' respectively, clean up the values of the 'gender' column, and change the column names to words which maximize meaning and clarity. "
      ]
    },
    {
      "cell_type": "markdown",
      "metadata": {
        "id": "EEXdBALeDuVi"
      },
      "source": [
        "First, let's change the name of `spent_week`, `spent_month`, and `SlrAY` to `spent_last_week` and `spent_last_month` and `salary` respectively."
      ]
    },
    {
      "cell_type": "code",
      "metadata": {
        "colab": {
          "base_uri": "https://localhost:8080/"
        },
        "id": "rhxy23pbDuVi",
        "outputId": "f64e2c75-b6c1-4209-c65c-d99f4765da47"
      },
      "source": [
        "# Check out the names of our data's columns \n",
        "coffeeData.columns "
      ],
      "execution_count": 93,
      "outputs": [
        {
          "output_type": "execute_result",
          "data": {
            "text/plain": [
              "Index(['Age', 'Gender', 'num_coffeeBags_per_year', 'spent_week', 'spent_month',\n",
              "       'SlrAY', 'Distance', 'Online', 'Decision'],\n",
              "      dtype='object')"
            ]
          },
          "metadata": {
            "tags": []
          },
          "execution_count": 93
        }
      ]
    },
    {
      "cell_type": "code",
      "metadata": {
        "id": "C_D1m6ryDuVk"
      },
      "source": [
        "# Make the relevant name changes to spent_week and spent_per_week.\n",
        "coffeeData.rename(columns={\n",
        "    \"spent_week\": \"spent_last_week\",\n",
        "    \"spent_month\": \"spent_last_month\",\n",
        "    \"SlrAY\": \"salary\"\n",
        "}, inplace=True)"
      ],
      "execution_count": 94,
      "outputs": []
    },
    {
      "cell_type": "code",
      "metadata": {
        "colab": {
          "base_uri": "https://localhost:8080/"
        },
        "id": "3cmdaeg8DuVm",
        "outputId": "774d3dc5-114b-47b8-aceb-cc1a0f52c950"
      },
      "source": [
        "# Check out the column names\n",
        "coffeeData.columns"
      ],
      "execution_count": 95,
      "outputs": [
        {
          "output_type": "execute_result",
          "data": {
            "text/plain": [
              "Index(['Age', 'Gender', 'num_coffeeBags_per_year', 'spent_last_week',\n",
              "       'spent_last_month', 'salary', 'Distance', 'Online', 'Decision'],\n",
              "      dtype='object')"
            ]
          },
          "metadata": {
            "tags": []
          },
          "execution_count": 95
        }
      ]
    },
    {
      "cell_type": "code",
      "metadata": {
        "colab": {
          "base_uri": "https://localhost:8080/"
        },
        "id": "XJK-wbfODuVp",
        "outputId": "9fd318ce-564d-4108-8d62-425bc1130b6c"
      },
      "source": [
        "# Let's have a closer look at the gender column. Its values need cleaning.\n",
        "coffeeData['Gender']"
      ],
      "execution_count": 96,
      "outputs": [
        {
          "output_type": "execute_result",
          "data": {
            "text/plain": [
              "0      Female\n",
              "1        Male\n",
              "2        Male\n",
              "3        Male\n",
              "4      Female\n",
              "        ...  \n",
              "697    Female\n",
              "698      Male\n",
              "699      Male\n",
              "700    Female\n",
              "701      Male\n",
              "Name: Gender, Length: 702, dtype: object"
            ]
          },
          "metadata": {
            "tags": []
          },
          "execution_count": 96
        }
      ]
    },
    {
      "cell_type": "code",
      "metadata": {
        "colab": {
          "base_uri": "https://localhost:8080/"
        },
        "id": "88bITtgzDuVr",
        "outputId": "91b6592b-0483-4644-e0b7-8adc3b3e4c0b"
      },
      "source": [
        "# See the gender column's unique values \n",
        "coffeeData['Gender'].unique()"
      ],
      "execution_count": 97,
      "outputs": [
        {
          "output_type": "execute_result",
          "data": {
            "text/plain": [
              "array(['Female', 'Male', 'female', 'F', 'f ', 'FEMALE', 'MALE', 'male',\n",
              "       'M'], dtype=object)"
            ]
          },
          "metadata": {
            "tags": []
          },
          "execution_count": 97
        }
      ]
    },
    {
      "cell_type": "markdown",
      "metadata": {
        "id": "-eGzgGR1DuVt"
      },
      "source": [
        "We can see a bunch of inconsistency here.\n",
        "\n",
        "Use replace() to make the values of the `gender` column just `Female` and `Male`."
      ]
    },
    {
      "cell_type": "code",
      "metadata": {
        "colab": {
          "base_uri": "https://localhost:8080/"
        },
        "id": "g6E5XL9SFojV",
        "outputId": "c98a3de9-8521-4125-d3a7-d74a143b52ea"
      },
      "source": [
        "coffeeData['Gender'].unique()"
      ],
      "execution_count": 98,
      "outputs": [
        {
          "output_type": "execute_result",
          "data": {
            "text/plain": [
              "array(['Female', 'Male', 'female', 'F', 'f ', 'FEMALE', 'MALE', 'male',\n",
              "       'M'], dtype=object)"
            ]
          },
          "metadata": {
            "tags": []
          },
          "execution_count": 98
        }
      ]
    },
    {
      "cell_type": "code",
      "metadata": {
        "id": "h0FOX3I3DuVu"
      },
      "source": [
        "# Replace all alternate values for the Female entry with 'Female'\n",
        "coffeeData['Gender'] = (\n",
        "    coffeeData['Gender'].str.replace(r'(([mM])\\w*(\\s)?)', 'Male')\n",
        "                        .str.replace(r'([fF]\\w*(\\s)?)', 'Female')\n",
        ")"
      ],
      "execution_count": 99,
      "outputs": []
    },
    {
      "cell_type": "code",
      "metadata": {
        "colab": {
          "base_uri": "https://localhost:8080/"
        },
        "id": "5TThfHgCDuVw",
        "outputId": "ed04adb5-e45f-46f4-d103-03000184e37e"
      },
      "source": [
        "# Check out the unique values for the 'gender' column\n",
        "coffeeData['Gender'].unique()"
      ],
      "execution_count": 100,
      "outputs": [
        {
          "output_type": "execute_result",
          "data": {
            "text/plain": [
              "array(['Female', 'Male'], dtype=object)"
            ]
          },
          "metadata": {
            "tags": []
          },
          "execution_count": 100
        }
      ]
    },
    {
      "cell_type": "code",
      "metadata": {
        "colab": {
          "base_uri": "https://localhost:8080/"
        },
        "id": "AdhhO4WHDuV2",
        "outputId": "3b0879a3-58e9-4e21-c5d6-ec01e73f2316"
      },
      "source": [
        "# Check out the unique values of the column 'Decision'\n",
        "coffeeData['Decision'].unique()"
      ],
      "execution_count": 101,
      "outputs": [
        {
          "output_type": "execute_result",
          "data": {
            "text/plain": [
              "array([ 1., nan,  0.])"
            ]
          },
          "metadata": {
            "tags": []
          },
          "execution_count": 101
        }
      ]
    },
    {
      "cell_type": "markdown",
      "metadata": {
        "id": "m1JuiY-iDuV5"
      },
      "source": [
        "We now want to replace `1.0` and `0.0` in the `Decision` column by `YES` and `NO` respectively."
      ]
    },
    {
      "cell_type": "code",
      "metadata": {
        "id": "QsK6gYPgDuV5"
      },
      "source": [
        "# Replace 'Yes' and 'No' by 1 and 0\n",
        "# coffeeData['Decision'].dtype\n",
        "coffeeData['Decision'] = (\n",
        "    coffeeData['Decision'].astype(str)\n",
        "                            .str.replace('1.0', 'YES')\n",
        "                            .str.replace('0.0', 'NO')\n",
        ")\n",
        "coffeeData['Decision'] = coffeeData['Decision'].replace('nan', np.nan)"
      ],
      "execution_count": 102,
      "outputs": []
    },
    {
      "cell_type": "code",
      "metadata": {
        "colab": {
          "base_uri": "https://localhost:8080/"
        },
        "id": "YtHnTZuWDuV9",
        "outputId": "44f0f401-af8e-430a-aeb6-ba74ee3770da"
      },
      "source": [
        "# Check that our replacing those values with 'YES' and 'NO' worked, with unique()\n",
        "coffeeData['Decision'].unique()"
      ],
      "execution_count": 103,
      "outputs": [
        {
          "output_type": "execute_result",
          "data": {
            "text/plain": [
              "array(['YES', nan, 'NO'], dtype=object)"
            ]
          },
          "metadata": {
            "tags": []
          },
          "execution_count": 103
        }
      ]
    },
    {
      "cell_type": "markdown",
      "metadata": {
        "id": "CKCt-fBlDuWB"
      },
      "source": [
        "## 2b. Train/test split\n",
        "To execute the train/test split properly, we need to do five things: \n",
        "1. Drop all rows with a null value in the `Decision` column, and save the result as NOPrediction: a dataset that will contain all known values for the decision \n",
        "2. Visualize the data using scatter and boxplots of several variables in the y-axis and the decision on the x-axis\n",
        "3. Get the subset of coffeeData with null values in the `Decision` column, and save that subset as Prediction\n",
        "4. Divide the NOPrediction subset into X and y, and then further divide those subsets into train and test subsets for X and y respectively\n",
        "5. Create dummy variables to deal with categorical inputs"
      ]
    },
    {
      "cell_type": "markdown",
      "metadata": {
        "id": "ysHdkIaQDuWB"
      },
      "source": [
        "### 1. Drop all null values within the `Decision` column, and save the result as NoPrediction"
      ]
    },
    {
      "cell_type": "code",
      "metadata": {
        "colab": {
          "base_uri": "https://localhost:8080/",
          "height": 424
        },
        "id": "jevz8PyFFojp",
        "outputId": "286d081b-5d7a-4f31-a999-baff23a98e43"
      },
      "source": [
        "coffeeData"
      ],
      "execution_count": 104,
      "outputs": [
        {
          "output_type": "execute_result",
          "data": {
            "text/html": [
              "<div>\n",
              "<style scoped>\n",
              "    .dataframe tbody tr th:only-of-type {\n",
              "        vertical-align: middle;\n",
              "    }\n",
              "\n",
              "    .dataframe tbody tr th {\n",
              "        vertical-align: top;\n",
              "    }\n",
              "\n",
              "    .dataframe thead th {\n",
              "        text-align: right;\n",
              "    }\n",
              "</style>\n",
              "<table border=\"1\" class=\"dataframe\">\n",
              "  <thead>\n",
              "    <tr style=\"text-align: right;\">\n",
              "      <th></th>\n",
              "      <th>Age</th>\n",
              "      <th>Gender</th>\n",
              "      <th>num_coffeeBags_per_year</th>\n",
              "      <th>spent_last_week</th>\n",
              "      <th>spent_last_month</th>\n",
              "      <th>salary</th>\n",
              "      <th>Distance</th>\n",
              "      <th>Online</th>\n",
              "      <th>Decision</th>\n",
              "    </tr>\n",
              "  </thead>\n",
              "  <tbody>\n",
              "    <tr>\n",
              "      <th>0</th>\n",
              "      <td>36</td>\n",
              "      <td>Female</td>\n",
              "      <td>0</td>\n",
              "      <td>24</td>\n",
              "      <td>73</td>\n",
              "      <td>42789</td>\n",
              "      <td>0.003168</td>\n",
              "      <td>0</td>\n",
              "      <td>YES</td>\n",
              "    </tr>\n",
              "    <tr>\n",
              "      <th>1</th>\n",
              "      <td>24</td>\n",
              "      <td>Male</td>\n",
              "      <td>0</td>\n",
              "      <td>44</td>\n",
              "      <td>164</td>\n",
              "      <td>74035</td>\n",
              "      <td>0.520906</td>\n",
              "      <td>0</td>\n",
              "      <td>NaN</td>\n",
              "    </tr>\n",
              "    <tr>\n",
              "      <th>2</th>\n",
              "      <td>24</td>\n",
              "      <td>Male</td>\n",
              "      <td>0</td>\n",
              "      <td>39</td>\n",
              "      <td>119</td>\n",
              "      <td>30563</td>\n",
              "      <td>0.916005</td>\n",
              "      <td>1</td>\n",
              "      <td>YES</td>\n",
              "    </tr>\n",
              "    <tr>\n",
              "      <th>3</th>\n",
              "      <td>20</td>\n",
              "      <td>Male</td>\n",
              "      <td>0</td>\n",
              "      <td>30</td>\n",
              "      <td>107</td>\n",
              "      <td>13166</td>\n",
              "      <td>0.932098</td>\n",
              "      <td>1</td>\n",
              "      <td>NaN</td>\n",
              "    </tr>\n",
              "    <tr>\n",
              "      <th>4</th>\n",
              "      <td>24</td>\n",
              "      <td>Female</td>\n",
              "      <td>0</td>\n",
              "      <td>20</td>\n",
              "      <td>36</td>\n",
              "      <td>14244</td>\n",
              "      <td>0.965881</td>\n",
              "      <td>0</td>\n",
              "      <td>YES</td>\n",
              "    </tr>\n",
              "    <tr>\n",
              "      <th>...</th>\n",
              "      <td>...</td>\n",
              "      <td>...</td>\n",
              "      <td>...</td>\n",
              "      <td>...</td>\n",
              "      <td>...</td>\n",
              "      <td>...</td>\n",
              "      <td>...</td>\n",
              "      <td>...</td>\n",
              "      <td>...</td>\n",
              "    </tr>\n",
              "    <tr>\n",
              "      <th>697</th>\n",
              "      <td>45</td>\n",
              "      <td>Female</td>\n",
              "      <td>5</td>\n",
              "      <td>61</td>\n",
              "      <td>201</td>\n",
              "      <td>80260</td>\n",
              "      <td>10.476341</td>\n",
              "      <td>0</td>\n",
              "      <td>YES</td>\n",
              "    </tr>\n",
              "    <tr>\n",
              "      <th>698</th>\n",
              "      <td>54</td>\n",
              "      <td>Male</td>\n",
              "      <td>5</td>\n",
              "      <td>44</td>\n",
              "      <td>116</td>\n",
              "      <td>44077</td>\n",
              "      <td>10.693889</td>\n",
              "      <td>1</td>\n",
              "      <td>NO</td>\n",
              "    </tr>\n",
              "    <tr>\n",
              "      <th>699</th>\n",
              "      <td>63</td>\n",
              "      <td>Male</td>\n",
              "      <td>5</td>\n",
              "      <td>33</td>\n",
              "      <td>117</td>\n",
              "      <td>43081</td>\n",
              "      <td>10.755194</td>\n",
              "      <td>1</td>\n",
              "      <td>NO</td>\n",
              "    </tr>\n",
              "    <tr>\n",
              "      <th>700</th>\n",
              "      <td>20</td>\n",
              "      <td>Female</td>\n",
              "      <td>5</td>\n",
              "      <td>41</td>\n",
              "      <td>159</td>\n",
              "      <td>12522</td>\n",
              "      <td>10.871566</td>\n",
              "      <td>0</td>\n",
              "      <td>NaN</td>\n",
              "    </tr>\n",
              "    <tr>\n",
              "      <th>701</th>\n",
              "      <td>90</td>\n",
              "      <td>Male</td>\n",
              "      <td>5</td>\n",
              "      <td>39</td>\n",
              "      <td>170</td>\n",
              "      <td>15098</td>\n",
              "      <td>10.891566</td>\n",
              "      <td>0</td>\n",
              "      <td>YES</td>\n",
              "    </tr>\n",
              "  </tbody>\n",
              "</table>\n",
              "<p>702 rows × 9 columns</p>\n",
              "</div>"
            ],
            "text/plain": [
              "     Age  Gender  num_coffeeBags_per_year  ...   Distance  Online  Decision\n",
              "0     36  Female                        0  ...   0.003168       0       YES\n",
              "1     24    Male                        0  ...   0.520906       0       NaN\n",
              "2     24    Male                        0  ...   0.916005       1       YES\n",
              "3     20    Male                        0  ...   0.932098       1       NaN\n",
              "4     24  Female                        0  ...   0.965881       0       YES\n",
              "..   ...     ...                      ...  ...        ...     ...       ...\n",
              "697   45  Female                        5  ...  10.476341       0       YES\n",
              "698   54    Male                        5  ...  10.693889       1        NO\n",
              "699   63    Male                        5  ...  10.755194       1        NO\n",
              "700   20  Female                        5  ...  10.871566       0       NaN\n",
              "701   90    Male                        5  ...  10.891566       0       YES\n",
              "\n",
              "[702 rows x 9 columns]"
            ]
          },
          "metadata": {
            "tags": []
          },
          "execution_count": 104
        }
      ]
    },
    {
      "cell_type": "code",
      "metadata": {
        "colab": {
          "base_uri": "https://localhost:8080/"
        },
        "id": "pvgH6SM4DuWC",
        "outputId": "45fb121c-9ffc-4b45-f210-0fbd72cba6b9"
      },
      "source": [
        "# NoPrediction will contain all known values for the decision\n",
        "# Call dropna() on coffeeData, and store the result in a variable NOPrediction \n",
        "# Call describe() on the Decision column of NoPrediction after calling dropna() on coffeeData\n",
        "NOPrediction = coffeeData.dropna(subset=['Decision']) \n",
        "NOPrediction['Decision'].describe()"
      ],
      "execution_count": 105,
      "outputs": [
        {
          "output_type": "execute_result",
          "data": {
            "text/plain": [
              "count     474\n",
              "unique      2\n",
              "top       YES\n",
              "freq      303\n",
              "Name: Decision, dtype: object"
            ]
          },
          "metadata": {
            "tags": []
          },
          "execution_count": 105
        }
      ]
    },
    {
      "cell_type": "markdown",
      "metadata": {
        "id": "XfTK5Ec6DuWE"
      },
      "source": [
        "### 2. Visualize the data using scatter and boxplots of several variables in the y-axis and the decision on the x-axis"
      ]
    },
    {
      "cell_type": "code",
      "metadata": {
        "colab": {
          "base_uri": "https://localhost:8080/",
          "height": 206
        },
        "id": "kfjp4HdLFojq",
        "outputId": "ce36b799-d6f3-4b4c-97b8-e038147b82da"
      },
      "source": [
        "NOPrediction.head()"
      ],
      "execution_count": 106,
      "outputs": [
        {
          "output_type": "execute_result",
          "data": {
            "text/html": [
              "<div>\n",
              "<style scoped>\n",
              "    .dataframe tbody tr th:only-of-type {\n",
              "        vertical-align: middle;\n",
              "    }\n",
              "\n",
              "    .dataframe tbody tr th {\n",
              "        vertical-align: top;\n",
              "    }\n",
              "\n",
              "    .dataframe thead th {\n",
              "        text-align: right;\n",
              "    }\n",
              "</style>\n",
              "<table border=\"1\" class=\"dataframe\">\n",
              "  <thead>\n",
              "    <tr style=\"text-align: right;\">\n",
              "      <th></th>\n",
              "      <th>Age</th>\n",
              "      <th>Gender</th>\n",
              "      <th>num_coffeeBags_per_year</th>\n",
              "      <th>spent_last_week</th>\n",
              "      <th>spent_last_month</th>\n",
              "      <th>salary</th>\n",
              "      <th>Distance</th>\n",
              "      <th>Online</th>\n",
              "      <th>Decision</th>\n",
              "    </tr>\n",
              "  </thead>\n",
              "  <tbody>\n",
              "    <tr>\n",
              "      <th>0</th>\n",
              "      <td>36</td>\n",
              "      <td>Female</td>\n",
              "      <td>0</td>\n",
              "      <td>24</td>\n",
              "      <td>73</td>\n",
              "      <td>42789</td>\n",
              "      <td>0.003168</td>\n",
              "      <td>0</td>\n",
              "      <td>YES</td>\n",
              "    </tr>\n",
              "    <tr>\n",
              "      <th>2</th>\n",
              "      <td>24</td>\n",
              "      <td>Male</td>\n",
              "      <td>0</td>\n",
              "      <td>39</td>\n",
              "      <td>119</td>\n",
              "      <td>30563</td>\n",
              "      <td>0.916005</td>\n",
              "      <td>1</td>\n",
              "      <td>YES</td>\n",
              "    </tr>\n",
              "    <tr>\n",
              "      <th>4</th>\n",
              "      <td>24</td>\n",
              "      <td>Female</td>\n",
              "      <td>0</td>\n",
              "      <td>20</td>\n",
              "      <td>36</td>\n",
              "      <td>14244</td>\n",
              "      <td>0.965881</td>\n",
              "      <td>0</td>\n",
              "      <td>YES</td>\n",
              "    </tr>\n",
              "    <tr>\n",
              "      <th>5</th>\n",
              "      <td>20</td>\n",
              "      <td>Female</td>\n",
              "      <td>0</td>\n",
              "      <td>23</td>\n",
              "      <td>28</td>\n",
              "      <td>14293</td>\n",
              "      <td>1.036346</td>\n",
              "      <td>1</td>\n",
              "      <td>YES</td>\n",
              "    </tr>\n",
              "    <tr>\n",
              "      <th>6</th>\n",
              "      <td>34</td>\n",
              "      <td>Female</td>\n",
              "      <td>0</td>\n",
              "      <td>55</td>\n",
              "      <td>202</td>\n",
              "      <td>91035</td>\n",
              "      <td>1.134851</td>\n",
              "      <td>0</td>\n",
              "      <td>YES</td>\n",
              "    </tr>\n",
              "  </tbody>\n",
              "</table>\n",
              "</div>"
            ],
            "text/plain": [
              "   Age  Gender  num_coffeeBags_per_year  ...  Distance  Online  Decision\n",
              "0   36  Female                        0  ...  0.003168       0       YES\n",
              "2   24    Male                        0  ...  0.916005       1       YES\n",
              "4   24  Female                        0  ...  0.965881       0       YES\n",
              "5   20  Female                        0  ...  1.036346       1       YES\n",
              "6   34  Female                        0  ...  1.134851       0       YES\n",
              "\n",
              "[5 rows x 9 columns]"
            ]
          },
          "metadata": {
            "tags": []
          },
          "execution_count": 106
        }
      ]
    },
    {
      "cell_type": "code",
      "metadata": {
        "colab": {
          "base_uri": "https://localhost:8080/",
          "height": 295
        },
        "id": "5O-M-t3tDuWE",
        "outputId": "2401902b-c2ca-43b0-cce8-3c904526fc25"
      },
      "source": [
        "# Exploring our new NOPrediction dataset\n",
        "# Make a boxplot on NOPrediction where the x axis is Decision, and the y axis is spent_today\n",
        "_ = sns.boxplot(x='Decision', y='spent_last_week', data=NOPrediction) \n",
        "_ = plt.title('Daily spent based on decision')\n",
        "_ = plt.xlabel('Would buy the Hidden Farm coffee')\n",
        "_ = plt.ylabel('Last Week spent')"
      ],
      "execution_count": 107,
      "outputs": [
        {
          "output_type": "display_data",
          "data": {
            "image/png": "[encoded data removed]",
            "text/plain": [
              "<Figure size 432x288 with 1 Axes>"
            ]
          },
          "metadata": {
            "tags": [],
            "needs_background": "light"
          }
        }
      ]
    },
    {
      "cell_type": "markdown",
      "metadata": {
        "id": "mVqg_HI7DuWG"
      },
      "source": [
        "Can you admissibly conclude anything from this boxplot? Write your answer here:  \n",
        "  \n",
        "* It looks like the more they spend the more they tend to buy.\n"
      ]
    },
    {
      "cell_type": "code",
      "metadata": {
        "colab": {
          "base_uri": "https://localhost:8080/",
          "height": 295
        },
        "id": "q-AyXWSxDuWH",
        "outputId": "fe83fb88-3043-41e7-9b00-b6398b503ae4"
      },
      "source": [
        "# Make a scatterplot on NOPrediction, where x is distance, y is spent_last_month and hue is Decision \n",
        "_ = sns.scatterplot(x='Distance', y='spent_last_month', data=NOPrediction, hue='Decision')\n",
        "_ = plt.title('Distance to Last Month Spent')\n",
        "_ = plt.xlabel('Normalized Distance')\n",
        "_ = plt.ylabel('Last Month Spent')"
      ],
      "execution_count": 108,
      "outputs": [
        {
          "output_type": "display_data",
          "data": {
            "image/png": "[encoded data removed]",
            "text/plain": [
              "<Figure size 432x288 with 1 Axes>"
            ]
          },
          "metadata": {
            "tags": [],
            "needs_background": "light"
          }
        }
      ]
    },
    {
      "cell_type": "markdown",
      "metadata": {
        "id": "I_nr36yZDuWJ"
      },
      "source": [
        "Can you admissibly conclude anything from this scatterplot? Remember: we are trying to build a tree to classify unseen examples. Write your answer here:  \n",
        "  \n",
        "* While the customers get closer they're more tend to buy"
      ]
    },
    {
      "cell_type": "markdown",
      "metadata": {
        "id": "oQBPyvehDuWK"
      },
      "source": [
        "### 3. Get the subset of coffeeData with null values in the Decision column, and save that subset as Prediction"
      ]
    },
    {
      "cell_type": "code",
      "metadata": {
        "colab": {
          "base_uri": "https://localhost:8080/",
          "height": 206
        },
        "id": "vcCednqUDuWL",
        "outputId": "937b8bbd-f741-4634-b137-c0d85f27fdea"
      },
      "source": [
        "# Get just those rows whose value for the Decision column is null  \n",
        "Prediction = coffeeData[coffeeData['Decision'].isna()]\n",
        "Prediction.head()"
      ],
      "execution_count": 109,
      "outputs": [
        {
          "output_type": "execute_result",
          "data": {
            "text/html": [
              "<div>\n",
              "<style scoped>\n",
              "    .dataframe tbody tr th:only-of-type {\n",
              "        vertical-align: middle;\n",
              "    }\n",
              "\n",
              "    .dataframe tbody tr th {\n",
              "        vertical-align: top;\n",
              "    }\n",
              "\n",
              "    .dataframe thead th {\n",
              "        text-align: right;\n",
              "    }\n",
              "</style>\n",
              "<table border=\"1\" class=\"dataframe\">\n",
              "  <thead>\n",
              "    <tr style=\"text-align: right;\">\n",
              "      <th></th>\n",
              "      <th>Age</th>\n",
              "      <th>Gender</th>\n",
              "      <th>num_coffeeBags_per_year</th>\n",
              "      <th>spent_last_week</th>\n",
              "      <th>spent_last_month</th>\n",
              "      <th>salary</th>\n",
              "      <th>Distance</th>\n",
              "      <th>Online</th>\n",
              "      <th>Decision</th>\n",
              "    </tr>\n",
              "  </thead>\n",
              "  <tbody>\n",
              "    <tr>\n",
              "      <th>1</th>\n",
              "      <td>24</td>\n",
              "      <td>Male</td>\n",
              "      <td>0</td>\n",
              "      <td>44</td>\n",
              "      <td>164</td>\n",
              "      <td>74035</td>\n",
              "      <td>0.520906</td>\n",
              "      <td>0</td>\n",
              "      <td>NaN</td>\n",
              "    </tr>\n",
              "    <tr>\n",
              "      <th>3</th>\n",
              "      <td>20</td>\n",
              "      <td>Male</td>\n",
              "      <td>0</td>\n",
              "      <td>30</td>\n",
              "      <td>107</td>\n",
              "      <td>13166</td>\n",
              "      <td>0.932098</td>\n",
              "      <td>1</td>\n",
              "      <td>NaN</td>\n",
              "    </tr>\n",
              "    <tr>\n",
              "      <th>7</th>\n",
              "      <td>24</td>\n",
              "      <td>Female</td>\n",
              "      <td>0</td>\n",
              "      <td>20</td>\n",
              "      <td>34</td>\n",
              "      <td>17425</td>\n",
              "      <td>1.193188</td>\n",
              "      <td>0</td>\n",
              "      <td>NaN</td>\n",
              "    </tr>\n",
              "    <tr>\n",
              "      <th>11</th>\n",
              "      <td>24</td>\n",
              "      <td>Female</td>\n",
              "      <td>0</td>\n",
              "      <td>40</td>\n",
              "      <td>153</td>\n",
              "      <td>84803</td>\n",
              "      <td>1.655096</td>\n",
              "      <td>1</td>\n",
              "      <td>NaN</td>\n",
              "    </tr>\n",
              "    <tr>\n",
              "      <th>12</th>\n",
              "      <td>21</td>\n",
              "      <td>Female</td>\n",
              "      <td>0</td>\n",
              "      <td>38</td>\n",
              "      <td>122</td>\n",
              "      <td>42338</td>\n",
              "      <td>1.714179</td>\n",
              "      <td>1</td>\n",
              "      <td>NaN</td>\n",
              "    </tr>\n",
              "  </tbody>\n",
              "</table>\n",
              "</div>"
            ],
            "text/plain": [
              "    Age  Gender  num_coffeeBags_per_year  ...  Distance  Online  Decision\n",
              "1    24    Male                        0  ...  0.520906       0       NaN\n",
              "3    20    Male                        0  ...  0.932098       1       NaN\n",
              "7    24  Female                        0  ...  1.193188       0       NaN\n",
              "11   24  Female                        0  ...  1.655096       1       NaN\n",
              "12   21  Female                        0  ...  1.714179       1       NaN\n",
              "\n",
              "[5 rows x 9 columns]"
            ]
          },
          "metadata": {
            "tags": []
          },
          "execution_count": 109
        }
      ]
    },
    {
      "cell_type": "code",
      "metadata": {
        "colab": {
          "base_uri": "https://localhost:8080/",
          "height": 300
        },
        "id": "aenlmp9NDuWM",
        "outputId": "676487fb-b3a7-4d74-fb36-1182ea6bb7f8"
      },
      "source": [
        "# Call describe() on Prediction\n",
        "Prediction.describe()"
      ],
      "execution_count": 110,
      "outputs": [
        {
          "output_type": "execute_result",
          "data": {
            "text/html": [
              "<div>\n",
              "<style scoped>\n",
              "    .dataframe tbody tr th:only-of-type {\n",
              "        vertical-align: middle;\n",
              "    }\n",
              "\n",
              "    .dataframe tbody tr th {\n",
              "        vertical-align: top;\n",
              "    }\n",
              "\n",
              "    .dataframe thead th {\n",
              "        text-align: right;\n",
              "    }\n",
              "</style>\n",
              "<table border=\"1\" class=\"dataframe\">\n",
              "  <thead>\n",
              "    <tr style=\"text-align: right;\">\n",
              "      <th></th>\n",
              "      <th>Age</th>\n",
              "      <th>num_coffeeBags_per_year</th>\n",
              "      <th>spent_last_week</th>\n",
              "      <th>spent_last_month</th>\n",
              "      <th>salary</th>\n",
              "      <th>Distance</th>\n",
              "      <th>Online</th>\n",
              "    </tr>\n",
              "  </thead>\n",
              "  <tbody>\n",
              "    <tr>\n",
              "      <th>count</th>\n",
              "      <td>228.000000</td>\n",
              "      <td>228.000000</td>\n",
              "      <td>228.000000</td>\n",
              "      <td>228.000000</td>\n",
              "      <td>228.000000</td>\n",
              "      <td>228.000000</td>\n",
              "      <td>228.000000</td>\n",
              "    </tr>\n",
              "    <tr>\n",
              "      <th>mean</th>\n",
              "      <td>31.802632</td>\n",
              "      <td>2.960526</td>\n",
              "      <td>33.394737</td>\n",
              "      <td>110.407895</td>\n",
              "      <td>41923.741228</td>\n",
              "      <td>3.428836</td>\n",
              "      <td>0.570175</td>\n",
              "    </tr>\n",
              "    <tr>\n",
              "      <th>std</th>\n",
              "      <td>14.302293</td>\n",
              "      <td>1.585514</td>\n",
              "      <td>15.697930</td>\n",
              "      <td>53.786536</td>\n",
              "      <td>27406.768360</td>\n",
              "      <td>2.153102</td>\n",
              "      <td>0.496140</td>\n",
              "    </tr>\n",
              "    <tr>\n",
              "      <th>min</th>\n",
              "      <td>16.000000</td>\n",
              "      <td>0.000000</td>\n",
              "      <td>0.000000</td>\n",
              "      <td>0.000000</td>\n",
              "      <td>1617.000000</td>\n",
              "      <td>0.010048</td>\n",
              "      <td>0.000000</td>\n",
              "    </tr>\n",
              "    <tr>\n",
              "      <th>25%</th>\n",
              "      <td>22.000000</td>\n",
              "      <td>2.000000</td>\n",
              "      <td>25.750000</td>\n",
              "      <td>65.000000</td>\n",
              "      <td>15911.500000</td>\n",
              "      <td>1.699408</td>\n",
              "      <td>0.000000</td>\n",
              "    </tr>\n",
              "    <tr>\n",
              "      <th>50%</th>\n",
              "      <td>25.000000</td>\n",
              "      <td>3.000000</td>\n",
              "      <td>37.000000</td>\n",
              "      <td>113.500000</td>\n",
              "      <td>40987.500000</td>\n",
              "      <td>3.208673</td>\n",
              "      <td>1.000000</td>\n",
              "    </tr>\n",
              "    <tr>\n",
              "      <th>75%</th>\n",
              "      <td>39.000000</td>\n",
              "      <td>4.000000</td>\n",
              "      <td>44.000000</td>\n",
              "      <td>151.250000</td>\n",
              "      <td>58537.000000</td>\n",
              "      <td>5.261184</td>\n",
              "      <td>1.000000</td>\n",
              "    </tr>\n",
              "    <tr>\n",
              "      <th>max</th>\n",
              "      <td>67.000000</td>\n",
              "      <td>5.000000</td>\n",
              "      <td>62.000000</td>\n",
              "      <td>210.000000</td>\n",
              "      <td>182058.000000</td>\n",
              "      <td>10.871566</td>\n",
              "      <td>1.000000</td>\n",
              "    </tr>\n",
              "  </tbody>\n",
              "</table>\n",
              "</div>"
            ],
            "text/plain": [
              "              Age  num_coffeeBags_per_year  ...    Distance      Online\n",
              "count  228.000000               228.000000  ...  228.000000  228.000000\n",
              "mean    31.802632                 2.960526  ...    3.428836    0.570175\n",
              "std     14.302293                 1.585514  ...    2.153102    0.496140\n",
              "min     16.000000                 0.000000  ...    0.010048    0.000000\n",
              "25%     22.000000                 2.000000  ...    1.699408    0.000000\n",
              "50%     25.000000                 3.000000  ...    3.208673    1.000000\n",
              "75%     39.000000                 4.000000  ...    5.261184    1.000000\n",
              "max     67.000000                 5.000000  ...   10.871566    1.000000\n",
              "\n",
              "[8 rows x 7 columns]"
            ]
          },
          "metadata": {
            "tags": []
          },
          "execution_count": 110
        }
      ]
    },
    {
      "cell_type": "markdown",
      "metadata": {
        "id": "zmN_BPwFDuWO"
      },
      "source": [
        "### 4. Divide the NOPrediction subset into X and y"
      ]
    },
    {
      "cell_type": "code",
      "metadata": {
        "colab": {
          "base_uri": "https://localhost:8080/"
        },
        "id": "00WtPVYSDuWP",
        "outputId": "87501b6e-80c8-44b2-e1dc-c2019c01a9a8"
      },
      "source": [
        "# Check the names of the columns of NOPrediction\n",
        "NOPrediction.columns"
      ],
      "execution_count": 111,
      "outputs": [
        {
          "output_type": "execute_result",
          "data": {
            "text/plain": [
              "Index(['Age', 'Gender', 'num_coffeeBags_per_year', 'spent_last_week',\n",
              "       'spent_last_month', 'salary', 'Distance', 'Online', 'Decision'],\n",
              "      dtype='object')"
            ]
          },
          "metadata": {
            "tags": []
          },
          "execution_count": 111
        }
      ]
    },
    {
      "cell_type": "code",
      "metadata": {
        "id": "oPi2gMLfDuWQ"
      },
      "source": [
        "# Let's do our feature selection.\n",
        "# Make a variable called 'features', and a list containing the strings of every column except \"Decision\"\n",
        "features = ['Age', 'Gender', 'num_coffeeBags_per_year', 'spent_last_week',\n",
        "       'spent_last_month', 'salary', 'Distance', 'Online']\n",
        "\n",
        "# Make an explanatory variable called X, and assign it: NoPrediction[features]\n",
        "X = NOPrediction[features]\n",
        "\n",
        "# Make a dependent variable called y, and assign it: NoPrediction.Decision\n",
        "y = NOPrediction.Decision"
      ],
      "execution_count": 112,
      "outputs": []
    },
    {
      "cell_type": "markdown",
      "metadata": {
        "id": "Jdn_dHlkDuWS"
      },
      "source": [
        "### 4. Further divide those subsets into train and test subsets for X and y respectively: X_train, X_test, y_train, y_test"
      ]
    },
    {
      "cell_type": "code",
      "metadata": {
        "id": "RqbHQza-DuWT"
      },
      "source": [
        "# Call train_test_split on X, y. Make the test_size = 0.25, and random_state = 246\n",
        "X_train, X_test, y_train, y_test = train_test_split(X, y, test_size=0.25, random_state=246)"
      ],
      "execution_count": 113,
      "outputs": []
    },
    {
      "cell_type": "markdown",
      "metadata": {
        "id": "R-d3XOv8DuWW"
      },
      "source": [
        "### 5. Create dummy variables to deal with categorical inputs\n",
        "One-hot encoding replaces each unique value of a given column with a new column, and puts a 1 in the new column for a given row just if its initial value for the original column matches the new column. Check out [this resource](https://hackernoon.com/what-is-one-hot-encoding-why-and-when-do-you-have-to-use-it-e3c6186d008f) if you haven't seen one-hot-encoding before. "
      ]
    },
    {
      "cell_type": "code",
      "metadata": {
        "id": "xXHGDZkZDuWW"
      },
      "source": [
        "# One-hot encode all features in training set.\n",
        "X_train = pd.get_dummies(X_train) \n",
        "\n",
        "# Do the same, but for X_test\n",
        "X_test = pd.get_dummies(X_test) "
      ],
      "execution_count": 114,
      "outputs": []
    },
    {
      "cell_type": "markdown",
      "metadata": {
        "id": "nqvyCX-6DuWb"
      },
      "source": [
        "# 3. Modelling\n",
        "It's useful to look at the scikit-learn documentation on decision trees https://scikit-learn.org/stable/modules/tree.html before launching into applying them. If you haven't seen them before, take a look at that link, in particular the section `1.10.5.` "
      ]
    },
    {
      "cell_type": "markdown",
      "metadata": {
        "id": "RIm9IN5HDuWc"
      },
      "source": [
        "## Model 1: Entropy model - no max_depth\n",
        "\n",
        "We'll give you a little more guidance here, as the Python is hard to deduce, and scikitlearn takes some getting used to.\n",
        "\n",
        "Theoretically, let's remind ourselves of what's going on with a decision tree implementing an entropy model.\n",
        "\n",
        "Ross Quinlan's **ID3 Algorithm** was one of the first, and one of the most basic, to use entropy as a metric.\n",
        "\n",
        "**Entropy** is a measure of how uncertain we are about which category the data-points fall into at a given point in the tree. The **Information gain** of a specific feature with a threshold (such as 'spent_last_month <= 138.0') is the difference in entropy that exists before and after splitting on that feature; i.e., the information we gain about the categories of the data-points by splitting on that feature and that threshold. \n",
        "\n",
        "Naturally, we want to minimize entropy and maximize information gain. Quinlan's ID3 algorithm is designed to output a tree such that the features at each node, starting from the root, and going all the way down to the leaves, have maximial information gain. We want a tree whose leaves have elements that are *homogeneous*, that is, all of the same category. \n",
        "\n",
        "The first model will be the hardest. Persevere and you'll reap the rewards: you can use almost exactly the same code for the other models. "
      ]
    },
    {
      "cell_type": "code",
      "metadata": {
        "colab": {
          "base_uri": "https://localhost:8080/"
        },
        "id": "8-gelLDgDuWc",
        "outputId": "e056a178-6787-48e6-e24d-11ad2b2b8264"
      },
      "source": [
        "# Declare a variable called entr_model and use tree.DecisionTreeClassifier. \n",
        "entr_model = tree.DecisionTreeClassifier(criterion='entropy')\n",
        "\n",
        "# Call fit() on entr_model\n",
        "entr_model.fit(X=X_train, y=y_train)\n",
        "\n",
        "# Call predict() on entr_model with X_test passed to it, and assign the result to a variable y_pred \n",
        "y_pred = entr_model.predict(X=X_test)\n",
        "\n",
        "# Call Series on our y_pred variable with the following: pd.Series(y_pred)\n",
        "y_pred = pd.Series(y_pred)\n",
        "\n",
        "# Check out entr_model\n",
        "entr_model"
      ],
      "execution_count": 115,
      "outputs": [
        {
          "output_type": "execute_result",
          "data": {
            "text/plain": [
              "DecisionTreeClassifier(ccp_alpha=0.0, class_weight=None, criterion='entropy',\n",
              "                       max_depth=None, max_features=None, max_leaf_nodes=None,\n",
              "                       min_impurity_decrease=0.0, min_impurity_split=None,\n",
              "                       min_samples_leaf=1, min_samples_split=2,\n",
              "                       min_weight_fraction_leaf=0.0, presort='deprecated',\n",
              "                       random_state=None, splitter='best')"
            ]
          },
          "metadata": {
            "tags": []
          },
          "execution_count": 115
        }
      ]
    },
    {
      "cell_type": "code",
      "metadata": {
        "colab": {
          "base_uri": "https://localhost:8080/",
          "height": 813
        },
        "id": "S4FbHfWnDuWe",
        "scrolled": true,
        "outputId": "450bdde6-021e-4bb5-ce4d-6d79a338a645"
      },
      "source": [
        "# Now we want to visualize the tree\n",
        "import graphviz\n",
        "\n",
        "# We can do so with export_graphviz\n",
        "train_data = tree.export_graphviz(entr_model)\n",
        "graph = graphviz.Source(train_data)\n",
        "graph.render(\"coffeData_entropy_no_depth\")\n",
        "\n",
        "\n",
        "# Alternatively for class_names use entr_model.classes_\n",
        "print(entr_model.classes_)\n",
        "\n",
        "\n",
        "graph"
      ],
      "execution_count": 116,
      "outputs": [
        {
          "output_type": "stream",
          "text": [
            "['NO' 'YES']\n"
          ],
          "name": "stdout"
        },
        {
          "output_type": "execute_result",
          "data": {
            "text/plain": [
              "<graphviz.files.Source at 0x7f92a5121cc0>"
            ],
            "image/svg+xml": "<?xml version=\"1.0\" encoding=\"UTF-8\" standalone=\"no\"?>\n<!DOCTYPE svg PUBLIC \"-//W3C//DTD SVG 1.1//EN\"\n \"http://www.w3.org/Graphics/SVG/1.1/DTD/svg11.dtd\">\n<!-- Generated by graphviz version 2.40.1 (20161225.0304)\n -->\n<!-- Title: Tree Pages: 1 -->\n<svg width=\"713pt\" height=\"581pt\"\n viewBox=\"0.00 0.00 712.50 581.00\" xmlns=\"http://www.w3.org/2000/svg\" xmlns:xlink=\"http://www.w3.org/1999/xlink\">\n<g id=\"graph0\" class=\"graph\" transform=\"scale(1 1) rotate(0) translate(4 577)\">\n<title>Tree</title>\n<polygon fill=\"#ffffff\" stroke=\"transparent\" points=\"-4,4 -4,-577 708.5,-577 708.5,4 -4,4\"/>\n<!-- 0 -->\n<g id=\"node1\" class=\"node\">\n<title>0</title>\n<polygon fill=\"none\" stroke=\"#000000\" points=\"365,-573 240,-573 240,-505 365,-505 365,-573\"/>\n<text text-anchor=\"middle\" x=\"302.5\" y=\"-557.8\" font-family=\"Times,serif\" font-size=\"14.00\" fill=\"#000000\">X[3] &lt;= 138.0</text>\n<text text-anchor=\"middle\" x=\"302.5\" y=\"-542.8\" font-family=\"Times,serif\" font-size=\"14.00\" fill=\"#000000\">entropy = 0.948</text>\n<text text-anchor=\"middle\" x=\"302.5\" y=\"-527.8\" font-family=\"Times,serif\" font-size=\"14.00\" fill=\"#000000\">samples = 355</text>\n<text text-anchor=\"middle\" x=\"302.5\" y=\"-512.8\" font-family=\"Times,serif\" font-size=\"14.00\" fill=\"#000000\">value = [130, 225]</text>\n</g>\n<!-- 1 -->\n<g id=\"node2\" class=\"node\">\n<title>1</title>\n<polygon fill=\"none\" stroke=\"#000000\" points=\"297,-469 172,-469 172,-401 297,-401 297,-469\"/>\n<text text-anchor=\"middle\" x=\"234.5\" y=\"-453.8\" font-family=\"Times,serif\" font-size=\"14.00\" fill=\"#000000\">X[5] &lt;= 3.524</text>\n<text text-anchor=\"middle\" x=\"234.5\" y=\"-438.8\" font-family=\"Times,serif\" font-size=\"14.00\" fill=\"#000000\">entropy = 0.991</text>\n<text text-anchor=\"middle\" x=\"234.5\" y=\"-423.8\" font-family=\"Times,serif\" font-size=\"14.00\" fill=\"#000000\">samples = 234</text>\n<text text-anchor=\"middle\" x=\"234.5\" y=\"-408.8\" font-family=\"Times,serif\" font-size=\"14.00\" fill=\"#000000\">value = [130, 104]</text>\n</g>\n<!-- 0&#45;&gt;1 -->\n<g id=\"edge1\" class=\"edge\">\n<title>0&#45;&gt;1</title>\n<path fill=\"none\" stroke=\"#000000\" d=\"M280.2343,-504.9465C274.5398,-496.2373 268.3448,-486.7626 262.4062,-477.6801\"/>\n<polygon fill=\"#000000\" stroke=\"#000000\" points=\"265.2177,-475.5843 256.8158,-469.13 259.3589,-479.4151 265.2177,-475.5843\"/>\n<text text-anchor=\"middle\" x=\"251.6942\" y=\"-489.8998\" font-family=\"Times,serif\" font-size=\"14.00\" fill=\"#000000\">True</text>\n</g>\n<!-- 16 -->\n<g id=\"node17\" class=\"node\">\n<title>16</title>\n<polygon fill=\"none\" stroke=\"#000000\" points=\"425.5,-461.5 315.5,-461.5 315.5,-408.5 425.5,-408.5 425.5,-461.5\"/>\n<text text-anchor=\"middle\" x=\"370.5\" y=\"-446.3\" font-family=\"Times,serif\" font-size=\"14.00\" fill=\"#000000\">entropy = 0.0</text>\n<text text-anchor=\"middle\" x=\"370.5\" y=\"-431.3\" font-family=\"Times,serif\" font-size=\"14.00\" fill=\"#000000\">samples = 121</text>\n<text text-anchor=\"middle\" x=\"370.5\" y=\"-416.3\" font-family=\"Times,serif\" font-size=\"14.00\" fill=\"#000000\">value = [0, 121]</text>\n</g>\n<!-- 0&#45;&gt;16 -->\n<g id=\"edge16\" class=\"edge\">\n<title>0&#45;&gt;16</title>\n<path fill=\"none\" stroke=\"#000000\" d=\"M324.7657,-504.9465C332.0398,-493.8215 340.1306,-481.4473 347.4604,-470.237\"/>\n<polygon fill=\"#000000\" stroke=\"#000000\" points=\"350.6024,-471.8273 353.1455,-461.5422 344.7436,-467.9965 350.6024,-471.8273\"/>\n<text text-anchor=\"middle\" x=\"358.2671\" y=\"-482.3119\" font-family=\"Times,serif\" font-size=\"14.00\" fill=\"#000000\">False</text>\n</g>\n<!-- 2 -->\n<g id=\"node3\" class=\"node\">\n<title>2</title>\n<polygon fill=\"none\" stroke=\"#000000\" points=\"223.5,-365 113.5,-365 113.5,-297 223.5,-297 223.5,-365\"/>\n<text text-anchor=\"middle\" x=\"168.5\" y=\"-349.8\" font-family=\"Times,serif\" font-size=\"14.00\" fill=\"#000000\">X[3] &lt;= 24.5</text>\n<text text-anchor=\"middle\" x=\"168.5\" y=\"-334.8\" font-family=\"Times,serif\" font-size=\"14.00\" fill=\"#000000\">entropy = 0.512</text>\n<text text-anchor=\"middle\" x=\"168.5\" y=\"-319.8\" font-family=\"Times,serif\" font-size=\"14.00\" fill=\"#000000\">samples = 79</text>\n<text text-anchor=\"middle\" x=\"168.5\" y=\"-304.8\" font-family=\"Times,serif\" font-size=\"14.00\" fill=\"#000000\">value = [9, 70]</text>\n</g>\n<!-- 1&#45;&gt;2 -->\n<g id=\"edge2\" class=\"edge\">\n<title>1&#45;&gt;2</title>\n<path fill=\"none\" stroke=\"#000000\" d=\"M212.8891,-400.9465C207.3622,-392.2373 201.3494,-382.7626 195.5854,-373.6801\"/>\n<polygon fill=\"#000000\" stroke=\"#000000\" points=\"198.4729,-371.6979 190.1594,-365.13 192.5626,-375.4487 198.4729,-371.6979\"/>\n</g>\n<!-- 7 -->\n<g id=\"node8\" class=\"node\">\n<title>7</title>\n<polygon fill=\"none\" stroke=\"#000000\" points=\"411,-365 294,-365 294,-297 411,-297 411,-365\"/>\n<text text-anchor=\"middle\" x=\"352.5\" y=\"-349.8\" font-family=\"Times,serif\" font-size=\"14.00\" fill=\"#000000\">X[3] &lt;= 101.0</text>\n<text text-anchor=\"middle\" x=\"352.5\" y=\"-334.8\" font-family=\"Times,serif\" font-size=\"14.00\" fill=\"#000000\">entropy = 0.759</text>\n<text text-anchor=\"middle\" x=\"352.5\" y=\"-319.8\" font-family=\"Times,serif\" font-size=\"14.00\" fill=\"#000000\">samples = 155</text>\n<text text-anchor=\"middle\" x=\"352.5\" y=\"-304.8\" font-family=\"Times,serif\" font-size=\"14.00\" fill=\"#000000\">value = [121, 34]</text>\n</g>\n<!-- 1&#45;&gt;7 -->\n<g id=\"edge7\" class=\"edge\">\n<title>1&#45;&gt;7</title>\n<path fill=\"none\" stroke=\"#000000\" d=\"M273.1376,-400.9465C283.6304,-391.6986 295.1026,-381.5876 305.9814,-371.9994\"/>\n<polygon fill=\"#000000\" stroke=\"#000000\" points=\"308.5877,-374.3678 313.7756,-365.13 303.9593,-369.1163 308.5877,-374.3678\"/>\n</g>\n<!-- 3 -->\n<g id=\"node4\" class=\"node\">\n<title>3</title>\n<polygon fill=\"none\" stroke=\"#000000\" points=\"95,-253.5 0,-253.5 0,-200.5 95,-200.5 95,-253.5\"/>\n<text text-anchor=\"middle\" x=\"47.5\" y=\"-238.3\" font-family=\"Times,serif\" font-size=\"14.00\" fill=\"#000000\">entropy = 0.0</text>\n<text text-anchor=\"middle\" x=\"47.5\" y=\"-223.3\" font-family=\"Times,serif\" font-size=\"14.00\" fill=\"#000000\">samples = 8</text>\n<text text-anchor=\"middle\" x=\"47.5\" y=\"-208.3\" font-family=\"Times,serif\" font-size=\"14.00\" fill=\"#000000\">value = [8, 0]</text>\n</g>\n<!-- 2&#45;&gt;3 -->\n<g id=\"edge3\" class=\"edge\">\n<title>2&#45;&gt;3</title>\n<path fill=\"none\" stroke=\"#000000\" d=\"M128.8801,-296.9465C115.1676,-285.1606 99.8239,-271.9726 86.1873,-260.2519\"/>\n<polygon fill=\"#000000\" stroke=\"#000000\" points=\"88.2459,-257.4061 78.3808,-253.5422 83.6831,-262.7147 88.2459,-257.4061\"/>\n</g>\n<!-- 4 -->\n<g id=\"node5\" class=\"node\">\n<title>4</title>\n<polygon fill=\"none\" stroke=\"#000000\" points=\"223.5,-261 113.5,-261 113.5,-193 223.5,-193 223.5,-261\"/>\n<text text-anchor=\"middle\" x=\"168.5\" y=\"-245.8\" font-family=\"Times,serif\" font-size=\"14.00\" fill=\"#000000\">X[0] &lt;= 59.0</text>\n<text text-anchor=\"middle\" x=\"168.5\" y=\"-230.8\" font-family=\"Times,serif\" font-size=\"14.00\" fill=\"#000000\">entropy = 0.107</text>\n<text text-anchor=\"middle\" x=\"168.5\" y=\"-215.8\" font-family=\"Times,serif\" font-size=\"14.00\" fill=\"#000000\">samples = 71</text>\n<text text-anchor=\"middle\" x=\"168.5\" y=\"-200.8\" font-family=\"Times,serif\" font-size=\"14.00\" fill=\"#000000\">value = [1, 70]</text>\n</g>\n<!-- 2&#45;&gt;4 -->\n<g id=\"edge4\" class=\"edge\">\n<title>2&#45;&gt;4</title>\n<path fill=\"none\" stroke=\"#000000\" d=\"M168.5,-296.9465C168.5,-288.776 168.5,-279.9318 168.5,-271.3697\"/>\n<polygon fill=\"#000000\" stroke=\"#000000\" points=\"172.0001,-271.13 168.5,-261.13 165.0001,-271.13 172.0001,-271.13\"/>\n</g>\n<!-- 5 -->\n<g id=\"node6\" class=\"node\">\n<title>5</title>\n<polygon fill=\"none\" stroke=\"#000000\" points=\"102.5,-149.5 .5,-149.5 .5,-96.5 102.5,-96.5 102.5,-149.5\"/>\n<text text-anchor=\"middle\" x=\"51.5\" y=\"-134.3\" font-family=\"Times,serif\" font-size=\"14.00\" fill=\"#000000\">entropy = 0.0</text>\n<text text-anchor=\"middle\" x=\"51.5\" y=\"-119.3\" font-family=\"Times,serif\" font-size=\"14.00\" fill=\"#000000\">samples = 70</text>\n<text text-anchor=\"middle\" x=\"51.5\" y=\"-104.3\" font-family=\"Times,serif\" font-size=\"14.00\" fill=\"#000000\">value = [0, 70]</text>\n</g>\n<!-- 4&#45;&gt;5 -->\n<g id=\"edge5\" class=\"edge\">\n<title>4&#45;&gt;5</title>\n<path fill=\"none\" stroke=\"#000000\" d=\"M130.1898,-192.9465C116.9306,-181.1606 102.0942,-167.9726 88.9084,-156.2519\"/>\n<polygon fill=\"#000000\" stroke=\"#000000\" points=\"91.1593,-153.5699 81.3599,-149.5422 86.5088,-158.8018 91.1593,-153.5699\"/>\n</g>\n<!-- 6 -->\n<g id=\"node7\" class=\"node\">\n<title>6</title>\n<polygon fill=\"none\" stroke=\"#000000\" points=\"216,-149.5 121,-149.5 121,-96.5 216,-96.5 216,-149.5\"/>\n<text text-anchor=\"middle\" x=\"168.5\" y=\"-134.3\" font-family=\"Times,serif\" font-size=\"14.00\" fill=\"#000000\">entropy = 0.0</text>\n<text text-anchor=\"middle\" x=\"168.5\" y=\"-119.3\" font-family=\"Times,serif\" font-size=\"14.00\" fill=\"#000000\">samples = 1</text>\n<text text-anchor=\"middle\" x=\"168.5\" y=\"-104.3\" font-family=\"Times,serif\" font-size=\"14.00\" fill=\"#000000\">value = [1, 0]</text>\n</g>\n<!-- 4&#45;&gt;6 -->\n<g id=\"edge6\" class=\"edge\">\n<title>4&#45;&gt;6</title>\n<path fill=\"none\" stroke=\"#000000\" d=\"M168.5,-192.9465C168.5,-182.2621 168.5,-170.4254 168.5,-159.5742\"/>\n<polygon fill=\"#000000\" stroke=\"#000000\" points=\"172.0001,-159.5421 168.5,-149.5422 165.0001,-159.5422 172.0001,-159.5421\"/>\n</g>\n<!-- 8 -->\n<g id=\"node9\" class=\"node\">\n<title>8</title>\n<polygon fill=\"none\" stroke=\"#000000\" points=\"407.5,-261 297.5,-261 297.5,-193 407.5,-193 407.5,-261\"/>\n<text text-anchor=\"middle\" x=\"352.5\" y=\"-245.8\" font-family=\"Times,serif\" font-size=\"14.00\" fill=\"#000000\">X[5] &lt;= 4.0</text>\n<text text-anchor=\"middle\" x=\"352.5\" y=\"-230.8\" font-family=\"Times,serif\" font-size=\"14.00\" fill=\"#000000\">entropy = 0.191</text>\n<text text-anchor=\"middle\" x=\"352.5\" y=\"-215.8\" font-family=\"Times,serif\" font-size=\"14.00\" fill=\"#000000\">samples = 102</text>\n<text text-anchor=\"middle\" x=\"352.5\" y=\"-200.8\" font-family=\"Times,serif\" font-size=\"14.00\" fill=\"#000000\">value = [99, 3]</text>\n</g>\n<!-- 7&#45;&gt;8 -->\n<g id=\"edge8\" class=\"edge\">\n<title>7&#45;&gt;8</title>\n<path fill=\"none\" stroke=\"#000000\" d=\"M352.5,-296.9465C352.5,-288.776 352.5,-279.9318 352.5,-271.3697\"/>\n<polygon fill=\"#000000\" stroke=\"#000000\" points=\"356.0001,-271.13 352.5,-261.13 349.0001,-271.13 356.0001,-271.13\"/>\n</g>\n<!-- 13 -->\n<g id=\"node14\" class=\"node\">\n<title>13</title>\n<polygon fill=\"none\" stroke=\"#000000\" points=\"588.5,-261 478.5,-261 478.5,-193 588.5,-193 588.5,-261\"/>\n<text text-anchor=\"middle\" x=\"533.5\" y=\"-245.8\" font-family=\"Times,serif\" font-size=\"14.00\" fill=\"#000000\">X[5] &lt;= 7.887</text>\n<text text-anchor=\"middle\" x=\"533.5\" y=\"-230.8\" font-family=\"Times,serif\" font-size=\"14.00\" fill=\"#000000\">entropy = 0.979</text>\n<text text-anchor=\"middle\" x=\"533.5\" y=\"-215.8\" font-family=\"Times,serif\" font-size=\"14.00\" fill=\"#000000\">samples = 53</text>\n<text text-anchor=\"middle\" x=\"533.5\" y=\"-200.8\" font-family=\"Times,serif\" font-size=\"14.00\" fill=\"#000000\">value = [22, 31]</text>\n</g>\n<!-- 7&#45;&gt;13 -->\n<g id=\"edge13\" class=\"edge\">\n<title>7&#45;&gt;13</title>\n<path fill=\"none\" stroke=\"#000000\" d=\"M411.2655,-297.2342C429.8898,-286.5329 450.5672,-274.652 469.5379,-263.7517\"/>\n<polygon fill=\"#000000\" stroke=\"#000000\" points=\"471.4809,-266.672 478.4078,-258.6552 467.9934,-260.6025 471.4809,-266.672\"/>\n</g>\n<!-- 9 -->\n<g id=\"node10\" class=\"node\">\n<title>9</title>\n<polygon fill=\"none\" stroke=\"#000000\" points=\"344.5,-157 234.5,-157 234.5,-89 344.5,-89 344.5,-157\"/>\n<text text-anchor=\"middle\" x=\"289.5\" y=\"-141.8\" font-family=\"Times,serif\" font-size=\"14.00\" fill=\"#000000\">X[0] &lt;= 26.5</text>\n<text text-anchor=\"middle\" x=\"289.5\" y=\"-126.8\" font-family=\"Times,serif\" font-size=\"14.00\" fill=\"#000000\">entropy = 0.985</text>\n<text text-anchor=\"middle\" x=\"289.5\" y=\"-111.8\" font-family=\"Times,serif\" font-size=\"14.00\" fill=\"#000000\">samples = 7</text>\n<text text-anchor=\"middle\" x=\"289.5\" y=\"-96.8\" font-family=\"Times,serif\" font-size=\"14.00\" fill=\"#000000\">value = [4, 3]</text>\n</g>\n<!-- 8&#45;&gt;9 -->\n<g id=\"edge9\" class=\"edge\">\n<title>8&#45;&gt;9</title>\n<path fill=\"none\" stroke=\"#000000\" d=\"M331.8714,-192.9465C326.6501,-184.3271 320.9745,-174.9579 315.5245,-165.9611\"/>\n<polygon fill=\"#000000\" stroke=\"#000000\" points=\"318.3497,-163.8697 310.1749,-157.13 312.3626,-167.4965 318.3497,-163.8697\"/>\n</g>\n<!-- 12 -->\n<g id=\"node13\" class=\"node\">\n<title>12</title>\n<polygon fill=\"none\" stroke=\"#000000\" points=\"464.5,-149.5 362.5,-149.5 362.5,-96.5 464.5,-96.5 464.5,-149.5\"/>\n<text text-anchor=\"middle\" x=\"413.5\" y=\"-134.3\" font-family=\"Times,serif\" font-size=\"14.00\" fill=\"#000000\">entropy = 0.0</text>\n<text text-anchor=\"middle\" x=\"413.5\" y=\"-119.3\" font-family=\"Times,serif\" font-size=\"14.00\" fill=\"#000000\">samples = 95</text>\n<text text-anchor=\"middle\" x=\"413.5\" y=\"-104.3\" font-family=\"Times,serif\" font-size=\"14.00\" fill=\"#000000\">value = [95, 0]</text>\n</g>\n<!-- 8&#45;&gt;12 -->\n<g id=\"edge12\" class=\"edge\">\n<title>8&#45;&gt;12</title>\n<path fill=\"none\" stroke=\"#000000\" d=\"M372.4737,-192.9465C378.999,-181.8215 386.2569,-169.4473 392.8322,-158.237\"/>\n<polygon fill=\"#000000\" stroke=\"#000000\" points=\"395.8916,-159.9387 397.932,-149.5422 389.8536,-156.3971 395.8916,-159.9387\"/>\n</g>\n<!-- 10 -->\n<g id=\"node11\" class=\"node\">\n<title>10</title>\n<polygon fill=\"none\" stroke=\"#000000\" points=\"281,-53 186,-53 186,0 281,0 281,-53\"/>\n<text text-anchor=\"middle\" x=\"233.5\" y=\"-37.8\" font-family=\"Times,serif\" font-size=\"14.00\" fill=\"#000000\">entropy = 0.0</text>\n<text text-anchor=\"middle\" x=\"233.5\" y=\"-22.8\" font-family=\"Times,serif\" font-size=\"14.00\" fill=\"#000000\">samples = 3</text>\n<text text-anchor=\"middle\" x=\"233.5\" y=\"-7.8\" font-family=\"Times,serif\" font-size=\"14.00\" fill=\"#000000\">value = [0, 3]</text>\n</g>\n<!-- 9&#45;&gt;10 -->\n<g id=\"edge10\" class=\"edge\">\n<title>9&#45;&gt;10</title>\n<path fill=\"none\" stroke=\"#000000\" d=\"M269.7565,-88.9777C264.7083,-80.2786 259.2669,-70.9018 254.1734,-62.1247\"/>\n<polygon fill=\"#000000\" stroke=\"#000000\" points=\"257.0689,-60.1409 249.0224,-53.2485 251.0145,-63.6544 257.0689,-60.1409\"/>\n</g>\n<!-- 11 -->\n<g id=\"node12\" class=\"node\">\n<title>11</title>\n<polygon fill=\"none\" stroke=\"#000000\" points=\"394,-53 299,-53 299,0 394,0 394,-53\"/>\n<text text-anchor=\"middle\" x=\"346.5\" y=\"-37.8\" font-family=\"Times,serif\" font-size=\"14.00\" fill=\"#000000\">entropy = 0.0</text>\n<text text-anchor=\"middle\" x=\"346.5\" y=\"-22.8\" font-family=\"Times,serif\" font-size=\"14.00\" fill=\"#000000\">samples = 4</text>\n<text text-anchor=\"middle\" x=\"346.5\" y=\"-7.8\" font-family=\"Times,serif\" font-size=\"14.00\" fill=\"#000000\">value = [4, 0]</text>\n</g>\n<!-- 9&#45;&gt;11 -->\n<g id=\"edge11\" class=\"edge\">\n<title>9&#45;&gt;11</title>\n<path fill=\"none\" stroke=\"#000000\" d=\"M309.5961,-88.9777C314.7344,-80.2786 320.273,-70.9018 325.4575,-62.1247\"/>\n<polygon fill=\"#000000\" stroke=\"#000000\" points=\"328.6281,-63.6387 330.7004,-53.2485 322.601,-60.0786 328.6281,-63.6387\"/>\n</g>\n<!-- 14 -->\n<g id=\"node15\" class=\"node\">\n<title>14</title>\n<polygon fill=\"none\" stroke=\"#000000\" points=\"584.5,-149.5 482.5,-149.5 482.5,-96.5 584.5,-96.5 584.5,-149.5\"/>\n<text text-anchor=\"middle\" x=\"533.5\" y=\"-134.3\" font-family=\"Times,serif\" font-size=\"14.00\" fill=\"#000000\">entropy = 0.0</text>\n<text text-anchor=\"middle\" x=\"533.5\" y=\"-119.3\" font-family=\"Times,serif\" font-size=\"14.00\" fill=\"#000000\">samples = 31</text>\n<text text-anchor=\"middle\" x=\"533.5\" y=\"-104.3\" font-family=\"Times,serif\" font-size=\"14.00\" fill=\"#000000\">value = [0, 31]</text>\n</g>\n<!-- 13&#45;&gt;14 -->\n<g id=\"edge14\" class=\"edge\">\n<title>13&#45;&gt;14</title>\n<path fill=\"none\" stroke=\"#000000\" d=\"M533.5,-192.9465C533.5,-182.2621 533.5,-170.4254 533.5,-159.5742\"/>\n<polygon fill=\"#000000\" stroke=\"#000000\" points=\"537.0001,-159.5421 533.5,-149.5422 530.0001,-159.5422 537.0001,-159.5421\"/>\n</g>\n<!-- 15 -->\n<g id=\"node16\" class=\"node\">\n<title>15</title>\n<polygon fill=\"none\" stroke=\"#000000\" points=\"704.5,-149.5 602.5,-149.5 602.5,-96.5 704.5,-96.5 704.5,-149.5\"/>\n<text text-anchor=\"middle\" x=\"653.5\" y=\"-134.3\" font-family=\"Times,serif\" font-size=\"14.00\" fill=\"#000000\">entropy = 0.0</text>\n<text text-anchor=\"middle\" x=\"653.5\" y=\"-119.3\" font-family=\"Times,serif\" font-size=\"14.00\" fill=\"#000000\">samples = 22</text>\n<text text-anchor=\"middle\" x=\"653.5\" y=\"-104.3\" font-family=\"Times,serif\" font-size=\"14.00\" fill=\"#000000\">value = [22, 0]</text>\n</g>\n<!-- 13&#45;&gt;15 -->\n<g id=\"edge15\" class=\"edge\">\n<title>13&#45;&gt;15</title>\n<path fill=\"none\" stroke=\"#000000\" d=\"M572.7925,-192.9465C586.3917,-181.1606 601.6085,-167.9726 615.1324,-156.2519\"/>\n<polygon fill=\"#000000\" stroke=\"#000000\" points=\"617.6098,-158.7364 622.8744,-149.5422 613.0252,-153.4466 617.6098,-158.7364\"/>\n</g>\n</g>\n</svg>\n"
          },
          "metadata": {
            "tags": []
          },
          "execution_count": 116
        }
      ]
    },
    {
      "cell_type": "markdown",
      "metadata": {
        "id": "dFbii4IADuWg"
      },
      "source": [
        "## Model 1: Entropy model - no max_depth: Interpretation and evaluation"
      ]
    },
    {
      "cell_type": "code",
      "metadata": {
        "colab": {
          "base_uri": "https://localhost:8080/"
        },
        "id": "XRL0klK4DuWh",
        "outputId": "cb73a197-139e-4802-e7d3-bc3bf2770eac"
      },
      "source": [
        "# Run this block for model evaluation metrics \n",
        "print(\"Model Entropy - no max depth\")\n",
        "print(\"Accuracy:\", metrics.accuracy_score(y_test,y_pred))\n",
        "print(\"Balanced accuracy:\", metrics.balanced_accuracy_score(y_test,y_pred))\n",
        "print('Precision score for \"Yes\"' , metrics.precision_score(y_test,y_pred, pos_label = \"YES\"))\n",
        "print('Precision score for \"No\"' , metrics.precision_score(y_test,y_pred, pos_label = \"NO\"))\n",
        "print('Recall score for \"Yes\"' , metrics.recall_score(y_test,y_pred, pos_label = \"YES\"))\n",
        "print('Recall score for \"No\"' , metrics.recall_score(y_test,y_pred, pos_label = \"NO\"))"
      ],
      "execution_count": 117,
      "outputs": [
        {
          "output_type": "stream",
          "text": [
            "Model Entropy - no max depth\n",
            "Accuracy: 0.9915966386554622\n",
            "Balanced accuracy: 0.9878048780487805\n",
            "Precision score for \"Yes\" 0.9873417721518988\n",
            "Precision score for \"No\" 1.0\n",
            "Recall score for \"Yes\" 1.0\n",
            "Recall score for \"No\" 0.975609756097561\n"
          ],
          "name": "stdout"
        }
      ]
    },
    {
      "cell_type": "markdown",
      "metadata": {
        "id": "icGOPFQ_DuWj"
      },
      "source": [
        "What can you infer from these results? Write your conclusions here:\n",
        "  \n",
        "* So having 1 for Precision of \"No\" means all of the predctions will be labelled as \"No\". On the other hand having 1 for Recall of \"Yes\" means all \"Yes\" labels done by the modell will be 100% correct. Which makes no sense at all and in the end shows that the model is overfitting "
      ]
    },
    {
      "cell_type": "markdown",
      "metadata": {
        "id": "MHipdpfxDuWk"
      },
      "source": [
        "## Model 2: Gini impurity model - no max_depth\n",
        "\n",
        "Gini impurity, like entropy, is a measure of how well a given feature (and threshold) splits the data into categories.\n",
        "\n",
        "Their equations are similar, but Gini impurity doesn't require logorathmic functions, which can be computationally expensive. "
      ]
    },
    {
      "cell_type": "code",
      "metadata": {
        "colab": {
          "base_uri": "https://localhost:8080/"
        },
        "id": "FyBljeIpDuWl",
        "outputId": "3840e50b-3441-4fdb-d1a9-a72d2b02f151"
      },
      "source": [
        "# Make a variable called gini_model, and assign it exactly what you assigned entr_model with above, but with the\n",
        "# criterion changed to 'gini'\n",
        "gini_model =  tree.DecisionTreeClassifier(criterion='gini')\n",
        "\n",
        "# Call fit() on the gini_model as you did with the entr_model\n",
        "gini_model.fit(X_train, y_train)\n",
        "\n",
        "# Call predict() on the gini_model as you did with the entr_model \n",
        "y_pred = gini_model.predict(X_test)\n",
        "\n",
        "# Turn y_pred into a series, as before\n",
        "y_pred = pd.Series(y_pred)\n",
        "\n",
        "# Check out gini_model\n",
        "gini_model"
      ],
      "execution_count": 118,
      "outputs": [
        {
          "output_type": "execute_result",
          "data": {
            "text/plain": [
              "DecisionTreeClassifier(ccp_alpha=0.0, class_weight=None, criterion='gini',\n",
              "                       max_depth=None, max_features=None, max_leaf_nodes=None,\n",
              "                       min_impurity_decrease=0.0, min_impurity_split=None,\n",
              "                       min_samples_leaf=1, min_samples_split=2,\n",
              "                       min_weight_fraction_leaf=0.0, presort='deprecated',\n",
              "                       random_state=None, splitter='best')"
            ]
          },
          "metadata": {
            "tags": []
          },
          "execution_count": 118
        }
      ]
    },
    {
      "cell_type": "code",
      "metadata": {
        "colab": {
          "base_uri": "https://localhost:8080/",
          "height": 952
        },
        "id": "d20SMUmgDuWo",
        "outputId": "f6bfaa22-c8cd-4d73-bf6e-42c49b9654ee"
      },
      "source": [
        "# As before, but make the model name gini_model\n",
        "train_data = tree.export_graphviz(gini_model)\n",
        "graph = graphviz.Source(train_data)\n",
        "graph.render(\"coffeData_gini\")\n",
        "\n",
        "\n",
        "# Alternatively for class_names use gini_model.classes_\n",
        "print(gini_model.classes_)\n",
        "\n",
        "graph"
      ],
      "execution_count": 119,
      "outputs": [
        {
          "output_type": "stream",
          "text": [
            "['NO' 'YES']\n"
          ],
          "name": "stdout"
        },
        {
          "output_type": "execute_result",
          "data": {
            "text/plain": [
              "<graphviz.files.Source at 0x7f92a50d6320>"
            ],
            "image/svg+xml": "<?xml version=\"1.0\" encoding=\"UTF-8\" standalone=\"no\"?>\n<!DOCTYPE svg PUBLIC \"-//W3C//DTD SVG 1.1//EN\"\n \"http://www.w3.org/Graphics/SVG/1.1/DTD/svg11.dtd\">\n<!-- Generated by graphviz version 2.40.1 (20161225.0304)\n -->\n<!-- Title: Tree Pages: 1 -->\n<svg width=\"774pt\" height=\"685pt\"\n viewBox=\"0.00 0.00 774.00 685.00\" xmlns=\"http://www.w3.org/2000/svg\" xmlns:xlink=\"http://www.w3.org/1999/xlink\">\n<g id=\"graph0\" class=\"graph\" transform=\"scale(1 1) rotate(0) translate(4 681)\">\n<title>Tree</title>\n<polygon fill=\"#ffffff\" stroke=\"transparent\" points=\"-4,4 -4,-681 770,-681 770,4 -4,4\"/>\n<!-- 0 -->\n<g id=\"node1\" class=\"node\">\n<title>0</title>\n<polygon fill=\"none\" stroke=\"#000000\" points=\"474.5,-677 349.5,-677 349.5,-609 474.5,-609 474.5,-677\"/>\n<text text-anchor=\"middle\" x=\"412\" y=\"-661.8\" font-family=\"Times,serif\" font-size=\"14.00\" fill=\"#000000\">X[3] &lt;= 100.5</text>\n<text text-anchor=\"middle\" x=\"412\" y=\"-646.8\" font-family=\"Times,serif\" font-size=\"14.00\" fill=\"#000000\">gini = 0.464</text>\n<text text-anchor=\"middle\" x=\"412\" y=\"-631.8\" font-family=\"Times,serif\" font-size=\"14.00\" fill=\"#000000\">samples = 355</text>\n<text text-anchor=\"middle\" x=\"412\" y=\"-616.8\" font-family=\"Times,serif\" font-size=\"14.00\" fill=\"#000000\">value = [130, 225]</text>\n</g>\n<!-- 1 -->\n<g id=\"node2\" class=\"node\">\n<title>1</title>\n<polygon fill=\"none\" stroke=\"#000000\" points=\"403.5,-573 286.5,-573 286.5,-505 403.5,-505 403.5,-573\"/>\n<text text-anchor=\"middle\" x=\"345\" y=\"-557.8\" font-family=\"Times,serif\" font-size=\"14.00\" fill=\"#000000\">X[5] &lt;= 3.754</text>\n<text text-anchor=\"middle\" x=\"345\" y=\"-542.8\" font-family=\"Times,serif\" font-size=\"14.00\" fill=\"#000000\">gini = 0.411</text>\n<text text-anchor=\"middle\" x=\"345\" y=\"-527.8\" font-family=\"Times,serif\" font-size=\"14.00\" fill=\"#000000\">samples = 152</text>\n<text text-anchor=\"middle\" x=\"345\" y=\"-512.8\" font-family=\"Times,serif\" font-size=\"14.00\" fill=\"#000000\">value = [108, 44]</text>\n</g>\n<!-- 0&#45;&gt;1 -->\n<g id=\"edge1\" class=\"edge\">\n<title>0&#45;&gt;1</title>\n<path fill=\"none\" stroke=\"#000000\" d=\"M390.0617,-608.9465C384.451,-600.2373 378.3471,-590.7626 372.4958,-581.6801\"/>\n<polygon fill=\"#000000\" stroke=\"#000000\" points=\"375.3457,-579.641 366.9876,-573.13 369.4611,-583.4321 375.3457,-579.641\"/>\n<text text-anchor=\"middle\" x=\"361.7006\" y=\"-593.8646\" font-family=\"Times,serif\" font-size=\"14.00\" fill=\"#000000\">True</text>\n</g>\n<!-- 16 -->\n<g id=\"node17\" class=\"node\">\n<title>16</title>\n<polygon fill=\"none\" stroke=\"#000000\" points=\"538.5,-573 421.5,-573 421.5,-505 538.5,-505 538.5,-573\"/>\n<text text-anchor=\"middle\" x=\"480\" y=\"-557.8\" font-family=\"Times,serif\" font-size=\"14.00\" fill=\"#000000\">X[5] &lt;= 8.047</text>\n<text text-anchor=\"middle\" x=\"480\" y=\"-542.8\" font-family=\"Times,serif\" font-size=\"14.00\" fill=\"#000000\">gini = 0.193</text>\n<text text-anchor=\"middle\" x=\"480\" y=\"-527.8\" font-family=\"Times,serif\" font-size=\"14.00\" fill=\"#000000\">samples = 203</text>\n<text text-anchor=\"middle\" x=\"480\" y=\"-512.8\" font-family=\"Times,serif\" font-size=\"14.00\" fill=\"#000000\">value = [22, 181]</text>\n</g>\n<!-- 0&#45;&gt;16 -->\n<g id=\"edge16\" class=\"edge\">\n<title>0&#45;&gt;16</title>\n<path fill=\"none\" stroke=\"#000000\" d=\"M434.2657,-608.9465C439.9602,-600.2373 446.1552,-590.7626 452.0938,-581.6801\"/>\n<polygon fill=\"#000000\" stroke=\"#000000\" points=\"455.1411,-583.4151 457.6842,-573.13 449.2823,-579.5843 455.1411,-583.4151\"/>\n<text text-anchor=\"middle\" x=\"462.8058\" y=\"-593.8998\" font-family=\"Times,serif\" font-size=\"14.00\" fill=\"#000000\">False</text>\n</g>\n<!-- 2 -->\n<g id=\"node3\" class=\"node\">\n<title>2</title>\n<polygon fill=\"none\" stroke=\"#000000\" points=\"278.5,-469 169.5,-469 169.5,-401 278.5,-401 278.5,-469\"/>\n<text text-anchor=\"middle\" x=\"224\" y=\"-453.8\" font-family=\"Times,serif\" font-size=\"14.00\" fill=\"#000000\">X[3] &lt;= 24.5</text>\n<text text-anchor=\"middle\" x=\"224\" y=\"-438.8\" font-family=\"Times,serif\" font-size=\"14.00\" fill=\"#000000\">gini = 0.324</text>\n<text text-anchor=\"middle\" x=\"224\" y=\"-423.8\" font-family=\"Times,serif\" font-size=\"14.00\" fill=\"#000000\">samples = 54</text>\n<text text-anchor=\"middle\" x=\"224\" y=\"-408.8\" font-family=\"Times,serif\" font-size=\"14.00\" fill=\"#000000\">value = [11, 43]</text>\n</g>\n<!-- 1&#45;&gt;2 -->\n<g id=\"edge2\" class=\"edge\">\n<title>1&#45;&gt;2</title>\n<path fill=\"none\" stroke=\"#000000\" d=\"M305.3801,-504.9465C294.516,-495.6088 282.6282,-485.3911 271.3765,-475.7203\"/>\n<polygon fill=\"#000000\" stroke=\"#000000\" points=\"273.5741,-472.994 263.7089,-469.13 269.0113,-478.3026 273.5741,-472.994\"/>\n</g>\n<!-- 11 -->\n<g id=\"node12\" class=\"node\">\n<title>11</title>\n<polygon fill=\"none\" stroke=\"#000000\" points=\"399,-469 297,-469 297,-401 399,-401 399,-469\"/>\n<text text-anchor=\"middle\" x=\"348\" y=\"-453.8\" font-family=\"Times,serif\" font-size=\"14.00\" fill=\"#000000\">X[5] &lt;= 4.0</text>\n<text text-anchor=\"middle\" x=\"348\" y=\"-438.8\" font-family=\"Times,serif\" font-size=\"14.00\" fill=\"#000000\">gini = 0.02</text>\n<text text-anchor=\"middle\" x=\"348\" y=\"-423.8\" font-family=\"Times,serif\" font-size=\"14.00\" fill=\"#000000\">samples = 98</text>\n<text text-anchor=\"middle\" x=\"348\" y=\"-408.8\" font-family=\"Times,serif\" font-size=\"14.00\" fill=\"#000000\">value = [97, 1]</text>\n</g>\n<!-- 1&#45;&gt;11 -->\n<g id=\"edge11\" class=\"edge\">\n<title>1&#45;&gt;11</title>\n<path fill=\"none\" stroke=\"#000000\" d=\"M345.9823,-504.9465C346.218,-496.776 346.4731,-487.9318 346.7201,-479.3697\"/>\n<polygon fill=\"#000000\" stroke=\"#000000\" points=\"350.2256,-479.2268 347.0155,-469.13 343.2285,-479.0249 350.2256,-479.2268\"/>\n</g>\n<!-- 3 -->\n<g id=\"node4\" class=\"node\">\n<title>3</title>\n<polygon fill=\"none\" stroke=\"#000000\" points=\"157.5,-357.5 62.5,-357.5 62.5,-304.5 157.5,-304.5 157.5,-357.5\"/>\n<text text-anchor=\"middle\" x=\"110\" y=\"-342.3\" font-family=\"Times,serif\" font-size=\"14.00\" fill=\"#000000\">gini = 0.0</text>\n<text text-anchor=\"middle\" x=\"110\" y=\"-327.3\" font-family=\"Times,serif\" font-size=\"14.00\" fill=\"#000000\">samples = 8</text>\n<text text-anchor=\"middle\" x=\"110\" y=\"-312.3\" font-family=\"Times,serif\" font-size=\"14.00\" fill=\"#000000\">value = [8, 0]</text>\n</g>\n<!-- 2&#45;&gt;3 -->\n<g id=\"edge3\" class=\"edge\">\n<title>2&#45;&gt;3</title>\n<path fill=\"none\" stroke=\"#000000\" d=\"M186.6721,-400.9465C173.8737,-389.2707 159.567,-376.219 146.8099,-364.5809\"/>\n<polygon fill=\"#000000\" stroke=\"#000000\" points=\"148.8409,-361.6961 139.0943,-357.5422 144.1231,-366.8675 148.8409,-361.6961\"/>\n</g>\n<!-- 4 -->\n<g id=\"node5\" class=\"node\">\n<title>4</title>\n<polygon fill=\"none\" stroke=\"#000000\" points=\"278,-365 176,-365 176,-297 278,-297 278,-365\"/>\n<text text-anchor=\"middle\" x=\"227\" y=\"-349.8\" font-family=\"Times,serif\" font-size=\"14.00\" fill=\"#000000\">X[0] &lt;= 57.5</text>\n<text text-anchor=\"middle\" x=\"227\" y=\"-334.8\" font-family=\"Times,serif\" font-size=\"14.00\" fill=\"#000000\">gini = 0.122</text>\n<text text-anchor=\"middle\" x=\"227\" y=\"-319.8\" font-family=\"Times,serif\" font-size=\"14.00\" fill=\"#000000\">samples = 46</text>\n<text text-anchor=\"middle\" x=\"227\" y=\"-304.8\" font-family=\"Times,serif\" font-size=\"14.00\" fill=\"#000000\">value = [3, 43]</text>\n</g>\n<!-- 2&#45;&gt;4 -->\n<g id=\"edge4\" class=\"edge\">\n<title>2&#45;&gt;4</title>\n<path fill=\"none\" stroke=\"#000000\" d=\"M224.9823,-400.9465C225.218,-392.776 225.4731,-383.9318 225.7201,-375.3697\"/>\n<polygon fill=\"#000000\" stroke=\"#000000\" points=\"229.2256,-375.2268 226.0155,-365.13 222.2285,-375.0249 229.2256,-375.2268\"/>\n</g>\n<!-- 5 -->\n<g id=\"node6\" class=\"node\">\n<title>5</title>\n<polygon fill=\"none\" stroke=\"#000000\" points=\"162,-261 60,-261 60,-193 162,-193 162,-261\"/>\n<text text-anchor=\"middle\" x=\"111\" y=\"-245.8\" font-family=\"Times,serif\" font-size=\"14.00\" fill=\"#000000\">X[5] &lt;= 3.298</text>\n<text text-anchor=\"middle\" x=\"111\" y=\"-230.8\" font-family=\"Times,serif\" font-size=\"14.00\" fill=\"#000000\">gini = 0.044</text>\n<text text-anchor=\"middle\" x=\"111\" y=\"-215.8\" font-family=\"Times,serif\" font-size=\"14.00\" fill=\"#000000\">samples = 44</text>\n<text text-anchor=\"middle\" x=\"111\" y=\"-200.8\" font-family=\"Times,serif\" font-size=\"14.00\" fill=\"#000000\">value = [1, 43]</text>\n</g>\n<!-- 4&#45;&gt;5 -->\n<g id=\"edge5\" class=\"edge\">\n<title>4&#45;&gt;5</title>\n<path fill=\"none\" stroke=\"#000000\" d=\"M189.0173,-296.9465C178.7023,-287.6986 167.4246,-277.5876 156.7301,-267.9994\"/>\n<polygon fill=\"#000000\" stroke=\"#000000\" points=\"158.8502,-265.1995 149.0681,-261.13 154.1774,-270.4115 158.8502,-265.1995\"/>\n</g>\n<!-- 10 -->\n<g id=\"node11\" class=\"node\">\n<title>10</title>\n<polygon fill=\"none\" stroke=\"#000000\" points=\"275.5,-253.5 180.5,-253.5 180.5,-200.5 275.5,-200.5 275.5,-253.5\"/>\n<text text-anchor=\"middle\" x=\"228\" y=\"-238.3\" font-family=\"Times,serif\" font-size=\"14.00\" fill=\"#000000\">gini = 0.0</text>\n<text text-anchor=\"middle\" x=\"228\" y=\"-223.3\" font-family=\"Times,serif\" font-size=\"14.00\" fill=\"#000000\">samples = 2</text>\n<text text-anchor=\"middle\" x=\"228\" y=\"-208.3\" font-family=\"Times,serif\" font-size=\"14.00\" fill=\"#000000\">value = [2, 0]</text>\n</g>\n<!-- 4&#45;&gt;10 -->\n<g id=\"edge10\" class=\"edge\">\n<title>4&#45;&gt;10</title>\n<path fill=\"none\" stroke=\"#000000\" d=\"M227.3274,-296.9465C227.4302,-286.2621 227.544,-274.4254 227.6483,-263.5742\"/>\n<polygon fill=\"#000000\" stroke=\"#000000\" points=\"231.1484,-263.5754 227.7448,-253.5422 224.1487,-263.508 231.1484,-263.5754\"/>\n</g>\n<!-- 6 -->\n<g id=\"node7\" class=\"node\">\n<title>6</title>\n<polygon fill=\"none\" stroke=\"#000000\" points=\"102,-149.5 0,-149.5 0,-96.5 102,-96.5 102,-149.5\"/>\n<text text-anchor=\"middle\" x=\"51\" y=\"-134.3\" font-family=\"Times,serif\" font-size=\"14.00\" fill=\"#000000\">gini = 0.0</text>\n<text text-anchor=\"middle\" x=\"51\" y=\"-119.3\" font-family=\"Times,serif\" font-size=\"14.00\" fill=\"#000000\">samples = 41</text>\n<text text-anchor=\"middle\" x=\"51\" y=\"-104.3\" font-family=\"Times,serif\" font-size=\"14.00\" fill=\"#000000\">value = [0, 41]</text>\n</g>\n<!-- 5&#45;&gt;6 -->\n<g id=\"edge6\" class=\"edge\">\n<title>5&#45;&gt;6</title>\n<path fill=\"none\" stroke=\"#000000\" d=\"M91.3538,-192.9465C84.9355,-181.8215 77.7965,-169.4473 71.329,-158.237\"/>\n<polygon fill=\"#000000\" stroke=\"#000000\" points=\"74.3417,-156.455 66.3128,-149.5422 68.2784,-159.9531 74.3417,-156.455\"/>\n</g>\n<!-- 7 -->\n<g id=\"node8\" class=\"node\">\n<title>7</title>\n<polygon fill=\"none\" stroke=\"#000000\" points=\"221.5,-157 120.5,-157 120.5,-89 221.5,-89 221.5,-157\"/>\n<text text-anchor=\"middle\" x=\"171\" y=\"-141.8\" font-family=\"Times,serif\" font-size=\"14.00\" fill=\"#000000\">X[5] &lt;= 3.628</text>\n<text text-anchor=\"middle\" x=\"171\" y=\"-126.8\" font-family=\"Times,serif\" font-size=\"14.00\" fill=\"#000000\">gini = 0.444</text>\n<text text-anchor=\"middle\" x=\"171\" y=\"-111.8\" font-family=\"Times,serif\" font-size=\"14.00\" fill=\"#000000\">samples = 3</text>\n<text text-anchor=\"middle\" x=\"171\" y=\"-96.8\" font-family=\"Times,serif\" font-size=\"14.00\" fill=\"#000000\">value = [1, 2]</text>\n</g>\n<!-- 5&#45;&gt;7 -->\n<g id=\"edge7\" class=\"edge\">\n<title>5&#45;&gt;7</title>\n<path fill=\"none\" stroke=\"#000000\" d=\"M130.6462,-192.9465C135.619,-184.3271 141.0243,-174.9579 146.2148,-165.9611\"/>\n<polygon fill=\"#000000\" stroke=\"#000000\" points=\"149.344,-167.5409 151.3096,-157.13 143.2807,-164.0428 149.344,-167.5409\"/>\n</g>\n<!-- 8 -->\n<g id=\"node9\" class=\"node\">\n<title>8</title>\n<polygon fill=\"none\" stroke=\"#000000\" points=\"162.5,-53 67.5,-53 67.5,0 162.5,0 162.5,-53\"/>\n<text text-anchor=\"middle\" x=\"115\" y=\"-37.8\" font-family=\"Times,serif\" font-size=\"14.00\" fill=\"#000000\">gini = 0.0</text>\n<text text-anchor=\"middle\" x=\"115\" y=\"-22.8\" font-family=\"Times,serif\" font-size=\"14.00\" fill=\"#000000\">samples = 1</text>\n<text text-anchor=\"middle\" x=\"115\" y=\"-7.8\" font-family=\"Times,serif\" font-size=\"14.00\" fill=\"#000000\">value = [1, 0]</text>\n</g>\n<!-- 7&#45;&gt;8 -->\n<g id=\"edge8\" class=\"edge\">\n<title>7&#45;&gt;8</title>\n<path fill=\"none\" stroke=\"#000000\" d=\"M151.2565,-88.9777C146.2083,-80.2786 140.7669,-70.9018 135.6734,-62.1247\"/>\n<polygon fill=\"#000000\" stroke=\"#000000\" points=\"138.5689,-60.1409 130.5224,-53.2485 132.5145,-63.6544 138.5689,-60.1409\"/>\n</g>\n<!-- 9 -->\n<g id=\"node10\" class=\"node\">\n<title>9</title>\n<polygon fill=\"none\" stroke=\"#000000\" points=\"275.5,-53 180.5,-53 180.5,0 275.5,0 275.5,-53\"/>\n<text text-anchor=\"middle\" x=\"228\" y=\"-37.8\" font-family=\"Times,serif\" font-size=\"14.00\" fill=\"#000000\">gini = 0.0</text>\n<text text-anchor=\"middle\" x=\"228\" y=\"-22.8\" font-family=\"Times,serif\" font-size=\"14.00\" fill=\"#000000\">samples = 2</text>\n<text text-anchor=\"middle\" x=\"228\" y=\"-7.8\" font-family=\"Times,serif\" font-size=\"14.00\" fill=\"#000000\">value = [0, 2]</text>\n</g>\n<!-- 7&#45;&gt;9 -->\n<g id=\"edge9\" class=\"edge\">\n<title>7&#45;&gt;9</title>\n<path fill=\"none\" stroke=\"#000000\" d=\"M191.0961,-88.9777C196.2344,-80.2786 201.773,-70.9018 206.9575,-62.1247\"/>\n<polygon fill=\"#000000\" stroke=\"#000000\" points=\"210.1281,-63.6387 212.2004,-53.2485 204.101,-60.0786 210.1281,-63.6387\"/>\n</g>\n<!-- 12 -->\n<g id=\"node13\" class=\"node\">\n<title>12</title>\n<polygon fill=\"none\" stroke=\"#000000\" points=\"394.5,-365 299.5,-365 299.5,-297 394.5,-297 394.5,-365\"/>\n<text text-anchor=\"middle\" x=\"347\" y=\"-349.8\" font-family=\"Times,serif\" font-size=\"14.00\" fill=\"#000000\">X[1] &lt;= 2.0</text>\n<text text-anchor=\"middle\" x=\"347\" y=\"-334.8\" font-family=\"Times,serif\" font-size=\"14.00\" fill=\"#000000\">gini = 0.444</text>\n<text text-anchor=\"middle\" x=\"347\" y=\"-319.8\" font-family=\"Times,serif\" font-size=\"14.00\" fill=\"#000000\">samples = 3</text>\n<text text-anchor=\"middle\" x=\"347\" y=\"-304.8\" font-family=\"Times,serif\" font-size=\"14.00\" fill=\"#000000\">value = [2, 1]</text>\n</g>\n<!-- 11&#45;&gt;12 -->\n<g id=\"edge12\" class=\"edge\">\n<title>11&#45;&gt;12</title>\n<path fill=\"none\" stroke=\"#000000\" d=\"M347.6726,-400.9465C347.594,-392.776 347.509,-383.9318 347.4266,-375.3697\"/>\n<polygon fill=\"#000000\" stroke=\"#000000\" points=\"350.9243,-375.0958 347.3282,-365.13 343.9246,-375.1632 350.9243,-375.0958\"/>\n</g>\n<!-- 15 -->\n<g id=\"node16\" class=\"node\">\n<title>15</title>\n<polygon fill=\"none\" stroke=\"#000000\" points=\"515,-357.5 413,-357.5 413,-304.5 515,-304.5 515,-357.5\"/>\n<text text-anchor=\"middle\" x=\"464\" y=\"-342.3\" font-family=\"Times,serif\" font-size=\"14.00\" fill=\"#000000\">gini = 0.0</text>\n<text text-anchor=\"middle\" x=\"464\" y=\"-327.3\" font-family=\"Times,serif\" font-size=\"14.00\" fill=\"#000000\">samples = 95</text>\n<text text-anchor=\"middle\" x=\"464\" y=\"-312.3\" font-family=\"Times,serif\" font-size=\"14.00\" fill=\"#000000\">value = [95, 0]</text>\n</g>\n<!-- 11&#45;&gt;15 -->\n<g id=\"edge15\" class=\"edge\">\n<title>11&#45;&gt;15</title>\n<path fill=\"none\" stroke=\"#000000\" d=\"M385.9827,-400.9465C399.1286,-389.1606 413.8382,-375.9726 426.9113,-364.2519\"/>\n<polygon fill=\"#000000\" stroke=\"#000000\" points=\"429.286,-366.8236 434.3953,-357.5422 424.6131,-361.6116 429.286,-366.8236\"/>\n</g>\n<!-- 13 -->\n<g id=\"node14\" class=\"node\">\n<title>13</title>\n<polygon fill=\"none\" stroke=\"#000000\" points=\"393.5,-253.5 298.5,-253.5 298.5,-200.5 393.5,-200.5 393.5,-253.5\"/>\n<text text-anchor=\"middle\" x=\"346\" y=\"-238.3\" font-family=\"Times,serif\" font-size=\"14.00\" fill=\"#000000\">gini = 0.0</text>\n<text text-anchor=\"middle\" x=\"346\" y=\"-223.3\" font-family=\"Times,serif\" font-size=\"14.00\" fill=\"#000000\">samples = 2</text>\n<text text-anchor=\"middle\" x=\"346\" y=\"-208.3\" font-family=\"Times,serif\" font-size=\"14.00\" fill=\"#000000\">value = [2, 0]</text>\n</g>\n<!-- 12&#45;&gt;13 -->\n<g id=\"edge13\" class=\"edge\">\n<title>12&#45;&gt;13</title>\n<path fill=\"none\" stroke=\"#000000\" d=\"M346.6726,-296.9465C346.5698,-286.2621 346.456,-274.4254 346.3517,-263.5742\"/>\n<polygon fill=\"#000000\" stroke=\"#000000\" points=\"349.8513,-263.508 346.2552,-253.5422 342.8516,-263.5754 349.8513,-263.508\"/>\n</g>\n<!-- 14 -->\n<g id=\"node15\" class=\"node\">\n<title>14</title>\n<polygon fill=\"none\" stroke=\"#000000\" points=\"506.5,-253.5 411.5,-253.5 411.5,-200.5 506.5,-200.5 506.5,-253.5\"/>\n<text text-anchor=\"middle\" x=\"459\" y=\"-238.3\" font-family=\"Times,serif\" font-size=\"14.00\" fill=\"#000000\">gini = 0.0</text>\n<text text-anchor=\"middle\" x=\"459\" y=\"-223.3\" font-family=\"Times,serif\" font-size=\"14.00\" fill=\"#000000\">samples = 1</text>\n<text text-anchor=\"middle\" x=\"459\" y=\"-208.3\" font-family=\"Times,serif\" font-size=\"14.00\" fill=\"#000000\">value = [0, 1]</text>\n</g>\n<!-- 12&#45;&gt;14 -->\n<g id=\"edge14\" class=\"edge\">\n<title>12&#45;&gt;14</title>\n<path fill=\"none\" stroke=\"#000000\" d=\"M383.673,-296.9465C396.2469,-285.2707 410.3026,-272.219 422.8359,-260.5809\"/>\n<polygon fill=\"#000000\" stroke=\"#000000\" points=\"425.4698,-262.9115 430.4161,-253.5422 420.7066,-257.7819 425.4698,-262.9115\"/>\n</g>\n<!-- 17 -->\n<g id=\"node18\" class=\"node\">\n<title>17</title>\n<polygon fill=\"none\" stroke=\"#000000\" points=\"532,-461.5 422,-461.5 422,-408.5 532,-408.5 532,-461.5\"/>\n<text text-anchor=\"middle\" x=\"477\" y=\"-446.3\" font-family=\"Times,serif\" font-size=\"14.00\" fill=\"#000000\">gini = 0.0</text>\n<text text-anchor=\"middle\" x=\"477\" y=\"-431.3\" font-family=\"Times,serif\" font-size=\"14.00\" fill=\"#000000\">samples = 158</text>\n<text text-anchor=\"middle\" x=\"477\" y=\"-416.3\" font-family=\"Times,serif\" font-size=\"14.00\" fill=\"#000000\">value = [0, 158]</text>\n</g>\n<!-- 16&#45;&gt;17 -->\n<g id=\"edge17\" class=\"edge\">\n<title>16&#45;&gt;17</title>\n<path fill=\"none\" stroke=\"#000000\" d=\"M479.0177,-504.9465C478.7095,-494.2621 478.368,-482.4254 478.055,-471.5742\"/>\n<polygon fill=\"#000000\" stroke=\"#000000\" points=\"481.5526,-471.4371 477.7656,-461.5422 474.5555,-471.639 481.5526,-471.4371\"/>\n</g>\n<!-- 18 -->\n<g id=\"node19\" class=\"node\">\n<title>18</title>\n<polygon fill=\"none\" stroke=\"#000000\" points=\"660,-469 550,-469 550,-401 660,-401 660,-469\"/>\n<text text-anchor=\"middle\" x=\"605\" y=\"-453.8\" font-family=\"Times,serif\" font-size=\"14.00\" fill=\"#000000\">X[3] &lt;= 140.5</text>\n<text text-anchor=\"middle\" x=\"605\" y=\"-438.8\" font-family=\"Times,serif\" font-size=\"14.00\" fill=\"#000000\">gini = 0.5</text>\n<text text-anchor=\"middle\" x=\"605\" y=\"-423.8\" font-family=\"Times,serif\" font-size=\"14.00\" fill=\"#000000\">samples = 45</text>\n<text text-anchor=\"middle\" x=\"605\" y=\"-408.8\" font-family=\"Times,serif\" font-size=\"14.00\" fill=\"#000000\">value = [22, 23]</text>\n</g>\n<!-- 16&#45;&gt;18 -->\n<g id=\"edge18\" class=\"edge\">\n<title>16&#45;&gt;18</title>\n<path fill=\"none\" stroke=\"#000000\" d=\"M520.9297,-504.9465C532.1528,-495.6088 544.4337,-485.3911 556.0573,-475.7203\"/>\n<polygon fill=\"#000000\" stroke=\"#000000\" points=\"558.5296,-478.2164 563.9784,-469.13 554.0526,-472.8353 558.5296,-478.2164\"/>\n</g>\n<!-- 19 -->\n<g id=\"node20\" class=\"node\">\n<title>19</title>\n<polygon fill=\"none\" stroke=\"#000000\" points=\"646,-357.5 544,-357.5 544,-304.5 646,-304.5 646,-357.5\"/>\n<text text-anchor=\"middle\" x=\"595\" y=\"-342.3\" font-family=\"Times,serif\" font-size=\"14.00\" fill=\"#000000\">gini = 0.0</text>\n<text text-anchor=\"middle\" x=\"595\" y=\"-327.3\" font-family=\"Times,serif\" font-size=\"14.00\" fill=\"#000000\">samples = 22</text>\n<text text-anchor=\"middle\" x=\"595\" y=\"-312.3\" font-family=\"Times,serif\" font-size=\"14.00\" fill=\"#000000\">value = [22, 0]</text>\n</g>\n<!-- 18&#45;&gt;19 -->\n<g id=\"edge19\" class=\"edge\">\n<title>18&#45;&gt;19</title>\n<path fill=\"none\" stroke=\"#000000\" d=\"M601.7256,-400.9465C600.6983,-390.2621 599.5601,-378.4254 598.5168,-367.5742\"/>\n<polygon fill=\"#000000\" stroke=\"#000000\" points=\"601.9933,-367.1612 597.5521,-357.5422 595.0254,-367.8313 601.9933,-367.1612\"/>\n</g>\n<!-- 20 -->\n<g id=\"node21\" class=\"node\">\n<title>20</title>\n<polygon fill=\"none\" stroke=\"#000000\" points=\"766,-357.5 664,-357.5 664,-304.5 766,-304.5 766,-357.5\"/>\n<text text-anchor=\"middle\" x=\"715\" y=\"-342.3\" font-family=\"Times,serif\" font-size=\"14.00\" fill=\"#000000\">gini = 0.0</text>\n<text text-anchor=\"middle\" x=\"715\" y=\"-327.3\" font-family=\"Times,serif\" font-size=\"14.00\" fill=\"#000000\">samples = 23</text>\n<text text-anchor=\"middle\" x=\"715\" y=\"-312.3\" font-family=\"Times,serif\" font-size=\"14.00\" fill=\"#000000\">value = [0, 23]</text>\n</g>\n<!-- 18&#45;&gt;20 -->\n<g id=\"edge20\" class=\"edge\">\n<title>18&#45;&gt;20</title>\n<path fill=\"none\" stroke=\"#000000\" d=\"M641.0181,-400.9465C653.3675,-389.2707 667.1722,-376.219 679.4817,-364.5809\"/>\n<polygon fill=\"#000000\" stroke=\"#000000\" points=\"682.0646,-366.9556 686.9266,-357.5422 677.2555,-361.869 682.0646,-366.9556\"/>\n</g>\n</g>\n</svg>\n"
          },
          "metadata": {
            "tags": []
          },
          "execution_count": 119
        }
      ]
    },
    {
      "cell_type": "code",
      "metadata": {
        "colab": {
          "base_uri": "https://localhost:8080/"
        },
        "id": "T0RadBy0DuWp",
        "outputId": "a92b3645-a43c-45ef-d8c8-6cfbd34627a5"
      },
      "source": [
        "# Run this block for model evaluation\n",
        "print(\"Model Gini impurity model\")\n",
        "print(\"Accuracy:\", metrics.accuracy_score(y_test,y_pred))\n",
        "print(\"Balanced accuracy:\", metrics.balanced_accuracy_score(y_test,y_pred))\n",
        "print('Precision score' , metrics.precision_score(y_test,y_pred, pos_label = \"YES\"))\n",
        "print('Recall score' , metrics.recall_score(y_test,y_pred, pos_label = \"NO\"))"
      ],
      "execution_count": 120,
      "outputs": [
        {
          "output_type": "stream",
          "text": [
            "Model Gini impurity model\n",
            "Accuracy: 0.9747899159663865\n",
            "Balanced accuracy: 0.9691994996873046\n",
            "Precision score 0.9746835443037974\n",
            "Recall score 0.9512195121951219\n"
          ],
          "name": "stdout"
        }
      ]
    },
    {
      "cell_type": "markdown",
      "metadata": {
        "id": "LR5LkC_yDuWs"
      },
      "source": [
        "How do the results here compare to the previous model? Write your judgements here: \n",
        "  \n",
        "* Eventough it had different tree structure this gini model with no max depth returned same results with the last entropy model. Which is another sign that this model also overfitting."
      ]
    },
    {
      "cell_type": "markdown",
      "metadata": {
        "id": "3PctBjTADuWs"
      },
      "source": [
        "## Model 3: Entropy model - max depth 3\n",
        "We're going to try to limit the depth of our decision tree, using entropy first.  \n",
        "\n",
        "As you know, we need to strike a balance with tree depth. \n",
        "\n",
        "Insufficiently deep, and we're not giving the tree the opportunity to spot the right patterns in the training data.\n",
        "\n",
        "Excessively deep, and we're probably going to make a tree that overfits to the training data, at the cost of very high error on the (hitherto unseen) test data. \n",
        "\n",
        "Sophisticated data scientists use methods like random search with cross-validation to systematically find a good depth for their tree. We'll start with picking 3, and see how that goes. "
      ]
    },
    {
      "cell_type": "code",
      "metadata": {
        "colab": {
          "base_uri": "https://localhost:8080/"
        },
        "id": "cMiPjWClDuWt",
        "outputId": "fdc83a3d-3ffb-4da9-92de-e8db8043755f"
      },
      "source": [
        "# Made a model as before, but call it entr_model2, and make the max_depth parameter equal to 3. \n",
        "# Execute the fitting, predicting, and Series operations as before\n",
        "entr_model2 = tree.DecisionTreeClassifier(criterion='entropy', max_depth=3)\n",
        "\n",
        "# Fit the model\n",
        "entr_model2.fit(X_train, y_train)\n",
        "\n",
        "# Predict\n",
        "y_pred = entr_model2.predict(X_test)\n",
        "\n",
        "# Series\n",
        "y_pred = pd.Series(y_pred)\n",
        "\n",
        "entr_model2"
      ],
      "execution_count": 121,
      "outputs": [
        {
          "output_type": "execute_result",
          "data": {
            "text/plain": [
              "DecisionTreeClassifier(ccp_alpha=0.0, class_weight=None, criterion='entropy',\n",
              "                       max_depth=3, max_features=None, max_leaf_nodes=None,\n",
              "                       min_impurity_decrease=0.0, min_impurity_split=None,\n",
              "                       min_samples_leaf=1, min_samples_split=2,\n",
              "                       min_weight_fraction_leaf=0.0, presort='deprecated',\n",
              "                       random_state=None, splitter='best')"
            ]
          },
          "metadata": {
            "tags": []
          },
          "execution_count": 121
        }
      ]
    },
    {
      "cell_type": "code",
      "metadata": {
        "colab": {
          "base_uri": "https://localhost:8080/",
          "height": 536
        },
        "id": "IRuw72VMDuWv",
        "outputId": "1af3c264-64ad-489e-e9c5-d6c467e882f5"
      },
      "source": [
        "# As before, we need to visualize the tree to grasp its nature\n",
        "train_data = tree.export_graphviz(entr_model2)\n",
        "graph = graphviz.Source(train_data)\n",
        "graph.render(\"coffeData_entr2\")\n",
        "\n",
        "# Alternatively for class_names use entr_model2.classes_\n",
        "print(entr_model2.classes_)\n",
        "graph"
      ],
      "execution_count": 122,
      "outputs": [
        {
          "output_type": "stream",
          "text": [
            "['NO' 'YES']\n"
          ],
          "name": "stdout"
        },
        {
          "output_type": "execute_result",
          "data": {
            "text/plain": [
              "<graphviz.files.Source at 0x7f92a50b0400>"
            ],
            "image/svg+xml": "<?xml version=\"1.0\" encoding=\"UTF-8\" standalone=\"no\"?>\n<!DOCTYPE svg PUBLIC \"-//W3C//DTD SVG 1.1//EN\"\n \"http://www.w3.org/Graphics/SVG/1.1/DTD/svg11.dtd\">\n<!-- Generated by graphviz version 2.40.1 (20161225.0304)\n -->\n<!-- Title: Tree Pages: 1 -->\n<svg width=\"490pt\" height=\"373pt\"\n viewBox=\"0.00 0.00 489.50 373.00\" xmlns=\"http://www.w3.org/2000/svg\" xmlns:xlink=\"http://www.w3.org/1999/xlink\">\n<g id=\"graph0\" class=\"graph\" transform=\"scale(1 1) rotate(0) translate(4 369)\">\n<title>Tree</title>\n<polygon fill=\"#ffffff\" stroke=\"transparent\" points=\"-4,4 -4,-369 485.5,-369 485.5,4 -4,4\"/>\n<!-- 0 -->\n<g id=\"node1\" class=\"node\">\n<title>0</title>\n<polygon fill=\"none\" stroke=\"#000000\" points=\"364,-365 239,-365 239,-297 364,-297 364,-365\"/>\n<text text-anchor=\"middle\" x=\"301.5\" y=\"-349.8\" font-family=\"Times,serif\" font-size=\"14.00\" fill=\"#000000\">X[3] &lt;= 138.0</text>\n<text text-anchor=\"middle\" x=\"301.5\" y=\"-334.8\" font-family=\"Times,serif\" font-size=\"14.00\" fill=\"#000000\">entropy = 0.948</text>\n<text text-anchor=\"middle\" x=\"301.5\" y=\"-319.8\" font-family=\"Times,serif\" font-size=\"14.00\" fill=\"#000000\">samples = 355</text>\n<text text-anchor=\"middle\" x=\"301.5\" y=\"-304.8\" font-family=\"Times,serif\" font-size=\"14.00\" fill=\"#000000\">value = [130, 225]</text>\n</g>\n<!-- 1 -->\n<g id=\"node2\" class=\"node\">\n<title>1</title>\n<polygon fill=\"none\" stroke=\"#000000\" points=\"296,-261 171,-261 171,-193 296,-193 296,-261\"/>\n<text text-anchor=\"middle\" x=\"233.5\" y=\"-245.8\" font-family=\"Times,serif\" font-size=\"14.00\" fill=\"#000000\">X[5] &lt;= 3.524</text>\n<text text-anchor=\"middle\" x=\"233.5\" y=\"-230.8\" font-family=\"Times,serif\" font-size=\"14.00\" fill=\"#000000\">entropy = 0.991</text>\n<text text-anchor=\"middle\" x=\"233.5\" y=\"-215.8\" font-family=\"Times,serif\" font-size=\"14.00\" fill=\"#000000\">samples = 234</text>\n<text text-anchor=\"middle\" x=\"233.5\" y=\"-200.8\" font-family=\"Times,serif\" font-size=\"14.00\" fill=\"#000000\">value = [130, 104]</text>\n</g>\n<!-- 0&#45;&gt;1 -->\n<g id=\"edge1\" class=\"edge\">\n<title>0&#45;&gt;1</title>\n<path fill=\"none\" stroke=\"#000000\" d=\"M279.2343,-296.9465C273.5398,-288.2373 267.3448,-278.7626 261.4062,-269.6801\"/>\n<polygon fill=\"#000000\" stroke=\"#000000\" points=\"264.2177,-267.5843 255.8158,-261.13 258.3589,-271.4151 264.2177,-267.5843\"/>\n<text text-anchor=\"middle\" x=\"250.6942\" y=\"-281.8998\" font-family=\"Times,serif\" font-size=\"14.00\" fill=\"#000000\">True</text>\n</g>\n<!-- 8 -->\n<g id=\"node9\" class=\"node\">\n<title>8</title>\n<polygon fill=\"none\" stroke=\"#000000\" points=\"424.5,-253.5 314.5,-253.5 314.5,-200.5 424.5,-200.5 424.5,-253.5\"/>\n<text text-anchor=\"middle\" x=\"369.5\" y=\"-238.3\" font-family=\"Times,serif\" font-size=\"14.00\" fill=\"#000000\">entropy = 0.0</text>\n<text text-anchor=\"middle\" x=\"369.5\" y=\"-223.3\" font-family=\"Times,serif\" font-size=\"14.00\" fill=\"#000000\">samples = 121</text>\n<text text-anchor=\"middle\" x=\"369.5\" y=\"-208.3\" font-family=\"Times,serif\" font-size=\"14.00\" fill=\"#000000\">value = [0, 121]</text>\n</g>\n<!-- 0&#45;&gt;8 -->\n<g id=\"edge8\" class=\"edge\">\n<title>0&#45;&gt;8</title>\n<path fill=\"none\" stroke=\"#000000\" d=\"M323.7657,-296.9465C331.0398,-285.8215 339.1306,-273.4473 346.4604,-262.237\"/>\n<polygon fill=\"#000000\" stroke=\"#000000\" points=\"349.6024,-263.8273 352.1455,-253.5422 343.7436,-259.9965 349.6024,-263.8273\"/>\n<text text-anchor=\"middle\" x=\"357.2671\" y=\"-274.3119\" font-family=\"Times,serif\" font-size=\"14.00\" fill=\"#000000\">False</text>\n</g>\n<!-- 2 -->\n<g id=\"node3\" class=\"node\">\n<title>2</title>\n<polygon fill=\"none\" stroke=\"#000000\" points=\"222.5,-157 112.5,-157 112.5,-89 222.5,-89 222.5,-157\"/>\n<text text-anchor=\"middle\" x=\"167.5\" y=\"-141.8\" font-family=\"Times,serif\" font-size=\"14.00\" fill=\"#000000\">X[3] &lt;= 24.5</text>\n<text text-anchor=\"middle\" x=\"167.5\" y=\"-126.8\" font-family=\"Times,serif\" font-size=\"14.00\" fill=\"#000000\">entropy = 0.512</text>\n<text text-anchor=\"middle\" x=\"167.5\" y=\"-111.8\" font-family=\"Times,serif\" font-size=\"14.00\" fill=\"#000000\">samples = 79</text>\n<text text-anchor=\"middle\" x=\"167.5\" y=\"-96.8\" font-family=\"Times,serif\" font-size=\"14.00\" fill=\"#000000\">value = [9, 70]</text>\n</g>\n<!-- 1&#45;&gt;2 -->\n<g id=\"edge2\" class=\"edge\">\n<title>1&#45;&gt;2</title>\n<path fill=\"none\" stroke=\"#000000\" d=\"M211.8891,-192.9465C206.3622,-184.2373 200.3494,-174.7626 194.5854,-165.6801\"/>\n<polygon fill=\"#000000\" stroke=\"#000000\" points=\"197.4729,-163.6979 189.1594,-157.13 191.5626,-167.4487 197.4729,-163.6979\"/>\n</g>\n<!-- 5 -->\n<g id=\"node6\" class=\"node\">\n<title>5</title>\n<polygon fill=\"none\" stroke=\"#000000\" points=\"358,-157 241,-157 241,-89 358,-89 358,-157\"/>\n<text text-anchor=\"middle\" x=\"299.5\" y=\"-141.8\" font-family=\"Times,serif\" font-size=\"14.00\" fill=\"#000000\">X[3] &lt;= 101.0</text>\n<text text-anchor=\"middle\" x=\"299.5\" y=\"-126.8\" font-family=\"Times,serif\" font-size=\"14.00\" fill=\"#000000\">entropy = 0.759</text>\n<text text-anchor=\"middle\" x=\"299.5\" y=\"-111.8\" font-family=\"Times,serif\" font-size=\"14.00\" fill=\"#000000\">samples = 155</text>\n<text text-anchor=\"middle\" x=\"299.5\" y=\"-96.8\" font-family=\"Times,serif\" font-size=\"14.00\" fill=\"#000000\">value = [121, 34]</text>\n</g>\n<!-- 1&#45;&gt;5 -->\n<g id=\"edge5\" class=\"edge\">\n<title>1&#45;&gt;5</title>\n<path fill=\"none\" stroke=\"#000000\" d=\"M255.1109,-192.9465C260.6378,-184.2373 266.6506,-174.7626 272.4146,-165.6801\"/>\n<polygon fill=\"#000000\" stroke=\"#000000\" points=\"275.4374,-167.4487 277.8406,-157.13 269.5271,-163.6979 275.4374,-167.4487\"/>\n</g>\n<!-- 3 -->\n<g id=\"node4\" class=\"node\">\n<title>3</title>\n<polygon fill=\"none\" stroke=\"#000000\" points=\"95,-53 0,-53 0,0 95,0 95,-53\"/>\n<text text-anchor=\"middle\" x=\"47.5\" y=\"-37.8\" font-family=\"Times,serif\" font-size=\"14.00\" fill=\"#000000\">entropy = 0.0</text>\n<text text-anchor=\"middle\" x=\"47.5\" y=\"-22.8\" font-family=\"Times,serif\" font-size=\"14.00\" fill=\"#000000\">samples = 8</text>\n<text text-anchor=\"middle\" x=\"47.5\" y=\"-7.8\" font-family=\"Times,serif\" font-size=\"14.00\" fill=\"#000000\">value = [8, 0]</text>\n</g>\n<!-- 2&#45;&gt;3 -->\n<g id=\"edge3\" class=\"edge\">\n<title>2&#45;&gt;3</title>\n<path fill=\"none\" stroke=\"#000000\" d=\"M125.1925,-88.9777C113.3501,-79.4545 100.4979,-69.1191 88.7195,-59.6473\"/>\n<polygon fill=\"#000000\" stroke=\"#000000\" points=\"90.7486,-56.7877 80.7624,-53.2485 86.3618,-62.2427 90.7486,-56.7877\"/>\n</g>\n<!-- 4 -->\n<g id=\"node5\" class=\"node\">\n<title>4</title>\n<polygon fill=\"none\" stroke=\"#000000\" points=\"223.5,-53 113.5,-53 113.5,0 223.5,0 223.5,-53\"/>\n<text text-anchor=\"middle\" x=\"168.5\" y=\"-37.8\" font-family=\"Times,serif\" font-size=\"14.00\" fill=\"#000000\">entropy = 0.107</text>\n<text text-anchor=\"middle\" x=\"168.5\" y=\"-22.8\" font-family=\"Times,serif\" font-size=\"14.00\" fill=\"#000000\">samples = 71</text>\n<text text-anchor=\"middle\" x=\"168.5\" y=\"-7.8\" font-family=\"Times,serif\" font-size=\"14.00\" fill=\"#000000\">value = [1, 70]</text>\n</g>\n<!-- 2&#45;&gt;4 -->\n<g id=\"edge4\" class=\"edge\">\n<title>2&#45;&gt;4</title>\n<path fill=\"none\" stroke=\"#000000\" d=\"M167.8526,-88.9777C167.938,-80.7364 168.0297,-71.887 168.1164,-63.5153\"/>\n<polygon fill=\"#000000\" stroke=\"#000000\" points=\"171.6189,-63.2842 168.2228,-53.2485 164.6193,-63.2116 171.6189,-63.2842\"/>\n</g>\n<!-- 6 -->\n<g id=\"node7\" class=\"node\">\n<title>6</title>\n<polygon fill=\"none\" stroke=\"#000000\" points=\"353.5,-53 243.5,-53 243.5,0 353.5,0 353.5,-53\"/>\n<text text-anchor=\"middle\" x=\"298.5\" y=\"-37.8\" font-family=\"Times,serif\" font-size=\"14.00\" fill=\"#000000\">entropy = 0.191</text>\n<text text-anchor=\"middle\" x=\"298.5\" y=\"-22.8\" font-family=\"Times,serif\" font-size=\"14.00\" fill=\"#000000\">samples = 102</text>\n<text text-anchor=\"middle\" x=\"298.5\" y=\"-7.8\" font-family=\"Times,serif\" font-size=\"14.00\" fill=\"#000000\">value = [99, 3]</text>\n</g>\n<!-- 5&#45;&gt;6 -->\n<g id=\"edge6\" class=\"edge\">\n<title>5&#45;&gt;6</title>\n<path fill=\"none\" stroke=\"#000000\" d=\"M299.1474,-88.9777C299.062,-80.7364 298.9703,-71.887 298.8836,-63.5153\"/>\n<polygon fill=\"#000000\" stroke=\"#000000\" points=\"302.3807,-63.2116 298.7772,-53.2485 295.3811,-63.2842 302.3807,-63.2116\"/>\n</g>\n<!-- 7 -->\n<g id=\"node8\" class=\"node\">\n<title>7</title>\n<polygon fill=\"none\" stroke=\"#000000\" points=\"481.5,-53 371.5,-53 371.5,0 481.5,0 481.5,-53\"/>\n<text text-anchor=\"middle\" x=\"426.5\" y=\"-37.8\" font-family=\"Times,serif\" font-size=\"14.00\" fill=\"#000000\">entropy = 0.979</text>\n<text text-anchor=\"middle\" x=\"426.5\" y=\"-22.8\" font-family=\"Times,serif\" font-size=\"14.00\" fill=\"#000000\">samples = 53</text>\n<text text-anchor=\"middle\" x=\"426.5\" y=\"-7.8\" font-family=\"Times,serif\" font-size=\"14.00\" fill=\"#000000\">value = [22, 31]</text>\n</g>\n<!-- 5&#45;&gt;7 -->\n<g id=\"edge7\" class=\"edge\">\n<title>5&#45;&gt;7</title>\n<path fill=\"none\" stroke=\"#000000\" d=\"M344.2754,-88.9777C356.9292,-79.3629 370.6723,-68.9203 383.2353,-59.3743\"/>\n<polygon fill=\"#000000\" stroke=\"#000000\" points=\"385.4526,-62.0853 391.2973,-53.2485 381.2176,-56.5118 385.4526,-62.0853\"/>\n</g>\n</g>\n</svg>\n"
          },
          "metadata": {
            "tags": []
          },
          "execution_count": 122
        }
      ]
    },
    {
      "cell_type": "code",
      "metadata": {
        "colab": {
          "base_uri": "https://localhost:8080/"
        },
        "id": "29f4vmmMDuWy",
        "outputId": "2f47288e-e086-4d58-d772-5d3ff189e7e0"
      },
      "source": [
        "# Run this block for model evaluation \n",
        "print(\"Model Entropy model max depth 3\")\n",
        "print(\"Accuracy:\", metrics.accuracy_score(y_test,y_pred))\n",
        "print(\"Balanced accuracy:\", metrics.balanced_accuracy_score(y_test,y_pred))\n",
        "print('Precision score for \"Yes\"' , metrics.precision_score(y_test,y_pred, pos_label = \"YES\"))\n",
        "print('Recall score for \"No\"' , metrics.recall_score(y_test,y_pred, pos_label = \"NO\"))"
      ],
      "execution_count": 123,
      "outputs": [
        {
          "output_type": "stream",
          "text": [
            "Model Entropy model max depth 3\n",
            "Accuracy: 0.907563025210084\n",
            "Balanced accuracy: 0.8658536585365854\n",
            "Precision score for \"Yes\" 0.8764044943820225\n",
            "Recall score for \"No\" 0.7317073170731707\n"
          ],
          "name": "stdout"
        }
      ]
    },
    {
      "cell_type": "markdown",
      "metadata": {
        "id": "AG7S2YgUDuW4"
      },
      "source": [
        "So our accuracy decreased, but is this certainly an inferior tree to the max depth original tree we did with Model 1? Write your conclusions here: \n",
        "  \n",
        "  * It is. And it woulf be better to check no depth model's depth and rebuil more models with that depth and dind out whic one works best"
      ]
    },
    {
      "cell_type": "markdown",
      "metadata": {
        "id": "FZTl4W3wDuW4"
      },
      "source": [
        "## Model 4: Gini impurity  model - max depth 3\n",
        "We're now going to try the same with the Gini impurity model. "
      ]
    },
    {
      "cell_type": "code",
      "metadata": {
        "colab": {
          "base_uri": "https://localhost:8080/"
        },
        "id": "FJK1bkG3DuW5",
        "outputId": "4b175d8a-41c5-4717-cff3-3067de9ec719"
      },
      "source": [
        "# As before, make a variable, but call it gini_model2, and ensure the max_depth parameter is set to 3\n",
        "gini_model2 = tree.DecisionTreeClassifier(criterion='gini', random_state = 1234, max_depth=3)\n",
        "\n",
        "# Do the fit, predict, and series transformations as before. \n",
        "gini_model2.fit(X_train, y_train)\n",
        "y_pred = gini_model2.predict(X_test)\n",
        "y_pred = pd.Series(y_pred)\n",
        "\n",
        "gini_model2"
      ],
      "execution_count": 124,
      "outputs": [
        {
          "output_type": "execute_result",
          "data": {
            "text/plain": [
              "DecisionTreeClassifier(ccp_alpha=0.0, class_weight=None, criterion='gini',\n",
              "                       max_depth=3, max_features=None, max_leaf_nodes=None,\n",
              "                       min_impurity_decrease=0.0, min_impurity_split=None,\n",
              "                       min_samples_leaf=1, min_samples_split=2,\n",
              "                       min_weight_fraction_leaf=0.0, presort='deprecated',\n",
              "                       random_state=1234, splitter='best')"
            ]
          },
          "metadata": {
            "tags": []
          },
          "execution_count": 124
        }
      ]
    },
    {
      "cell_type": "code",
      "metadata": {
        "colab": {
          "base_uri": "https://localhost:8080/",
          "height": 594
        },
        "id": "_UIWhKZBDuW7",
        "outputId": "c6457907-d988-4e54-85ea-c31df3d8a011"
      },
      "source": [
        "dot_data = StringIO()\n",
        "\n",
        "\"\"\" Took from tier 2\"\"\"\n",
        "tree.export_graphviz(gini_model2, out_file=dot_data,  \n",
        "                filled=True, rounded=True,\n",
        "                special_characters=True, feature_names=X_train.columns,class_names = [\"NO\", \"YES\"])\n",
        "\n",
        "\n",
        "# Alternatively for class_names use gini_model2.classes_\n",
        "\"\"\" Took from tier 2\"\"\"\n",
        "graph = pydotplus.graph_from_dot_data(dot_data.getvalue())  \n",
        "Image(graph.create_png())"
      ],
      "execution_count": 125,
      "outputs": [
        {
          "output_type": "execute_result",
          "data": {
            "image/png": "[encoded data removed]",
            "text/plain": [
              "<IPython.core.display.Image object>"
            ]
          },
          "metadata": {
            "tags": []
          },
          "execution_count": 125
        }
      ]
    },
    {
      "cell_type": "code",
      "metadata": {
        "colab": {
          "base_uri": "https://localhost:8080/"
        },
        "id": "R4t7e9-GDuW9",
        "outputId": "4f43f7c4-2540-47f1-939c-6b979fde9eff"
      },
      "source": [
        "print(\"Gini impurity  model - max depth 3\")\n",
        "print(\"Accuracy:\", metrics.accuracy_score(y_test,y_pred))\n",
        "print(\"Balanced accuracy:\", metrics.balanced_accuracy_score(y_test,y_pred))\n",
        "print('Precision score' , metrics.precision_score(y_test,y_pred, pos_label = \"YES\"))\n",
        "print('Recall score' , metrics.recall_score(y_test,y_pred, pos_label = \"NO\"))"
      ],
      "execution_count": 126,
      "outputs": [
        {
          "output_type": "stream",
          "text": [
            "Gini impurity  model - max depth 3\n",
            "Accuracy: 0.9747899159663865\n",
            "Balanced accuracy: 0.9691994996873046\n",
            "Precision score 0.9746835443037974\n",
            "Recall score 0.9512195121951219\n"
          ],
          "name": "stdout"
        }
      ]
    },
    {
      "cell_type": "markdown",
      "metadata": {
        "id": "UzGThBXSDuW-"
      },
      "source": [
        "Now this is an elegant tree. Its accuracy might not be the highest, but it's still the best model we've produced so far. Why is that? Write your answer here: \n",
        "  \n",
        "* Other models with higher accuracy were cleary overfitting and even one of them completely useless. And compared to the entropy model with three depth this has much better results. So it's the best one so far."
      ]
    },
    {
      "cell_type": "markdown",
      "metadata": {
        "id": "jS1niFlCDuW_"
      },
      "source": [
        "# 4. Evaluating and concluding\n",
        "## 4a. How many customers will buy Hidden Farm coffee? \n",
        "Let's first ascertain how many loyal customers claimed, in the survey, that they will purchase the Hidden Farm coffee. "
      ]
    },
    {
      "cell_type": "code",
      "metadata": {
        "colab": {
          "base_uri": "https://localhost:8080/"
        },
        "id": "QPHXnHZvDuXC",
        "outputId": "4b670448-f83c-4a74-d3f5-8b5816cab8ec"
      },
      "source": [
        "# Call value_counts() on the 'Decision' column of the original coffeeData\n",
        "coffeeData['Decision'].value_counts()"
      ],
      "execution_count": 127,
      "outputs": [
        {
          "output_type": "execute_result",
          "data": {
            "text/plain": [
              "YES    303\n",
              "NO     171\n",
              "Name: Decision, dtype: int64"
            ]
          },
          "metadata": {
            "tags": []
          },
          "execution_count": 127
        }
      ]
    },
    {
      "cell_type": "markdown",
      "metadata": {
        "id": "kw_5g_ZEDuXD"
      },
      "source": [
        "Let's now determine the number of people that, according to the model, will be willing to buy the Hidden Farm coffee. \n",
        "1. First we subset the Prediction dataset into `new_X` considering all the variables except `Decision` \n",
        "2. Use that dataset to predict a new variable called `potential_buyers`"
      ]
    },
    {
      "cell_type": "code",
      "metadata": {
        "id": "mwypR8ymDuXE"
      },
      "source": [
        "# Feature selection\n",
        "# Make a variable called feature_cols, and assign it a list containing all the column names except 'Decision'\n",
        "feature_cols = coffeeData.columns.to_list()\n",
        "feature_cols.remove('Decision')\n",
        "\n",
        "# Make a variable called new_X, and assign it the subset of Prediction, containing just the feature_cols \n",
        "new_X = Prediction[feature_cols]"
      ],
      "execution_count": 128,
      "outputs": []
    },
    {
      "cell_type": "code",
      "metadata": {
        "id": "0ajvbeRSDuXG"
      },
      "source": [
        "# Call get_dummies() on the Pandas object pd, with new_X plugged in, to one-hot encode all features in the training set\n",
        "new_X = pd.get_dummies(new_X)\n",
        "\n",
        "# Make a variable called potential_buyers, and assign it the result of calling predict() on a model of your choice; \n",
        "# don't forget to pass new_X to predict()\n",
        "potential_buyers = gini_model2.predict(new_X)"
      ],
      "execution_count": 129,
      "outputs": []
    },
    {
      "cell_type": "code",
      "metadata": {
        "colab": {
          "base_uri": "https://localhost:8080/"
        },
        "id": "-MO_KWT9DuXI",
        "outputId": "4a94de08-9e42-4953-9673-c1fbba66a510"
      },
      "source": [
        "# Let's get the numbers of YES's and NO's in the potential buyers \n",
        "# Call unique() on np, and pass potential_buyers and return_counts=True \n",
        "np.unique(potential_buyers, return_counts=True)"
      ],
      "execution_count": 130,
      "outputs": [
        {
          "output_type": "execute_result",
          "data": {
            "text/plain": [
              "(array(['NO', 'YES'], dtype=object), array([ 45, 183]))"
            ]
          },
          "metadata": {
            "tags": []
          },
          "execution_count": 130
        }
      ]
    },
    {
      "cell_type": "markdown",
      "metadata": {
        "id": "3CB7HbiTDuXJ"
      },
      "source": [
        "The total number of potential buyers is 303 + 183 = 486"
      ]
    },
    {
      "cell_type": "code",
      "metadata": {
        "colab": {
          "base_uri": "https://localhost:8080/"
        },
        "id": "9EGFQcTuDuXK",
        "outputId": "bc8cc66a-0422-4785-8422-606d98f4db09"
      },
      "source": [
        "# Print the total number of surveyed people \n",
        "print(f'Total number of surveyed people: {len(coffeeData)}')"
      ],
      "execution_count": 131,
      "outputs": [
        {
          "output_type": "stream",
          "text": [
            "Total number of surveyed people: 702\n"
          ],
          "name": "stdout"
        }
      ]
    },
    {
      "cell_type": "code",
      "metadata": {
        "colab": {
          "base_uri": "https://localhost:8080/"
        },
        "id": "22_KRMX4DuXM",
        "outputId": "aeceb068-5dde-41a6-f258-04487e19806d"
      },
      "source": [
        "# Let's calculate the proportion of buyers\n",
        "print(f'Proportion of buyers: {486 / (702 - 486)}')"
      ],
      "execution_count": 132,
      "outputs": [
        {
          "output_type": "stream",
          "text": [
            "Proportion of buyers: 2.25\n"
          ],
          "name": "stdout"
        }
      ]
    },
    {
      "cell_type": "code",
      "metadata": {
        "colab": {
          "base_uri": "https://localhost:8080/"
        },
        "id": "xLMCDMpmDuXO",
        "outputId": "a96f2a88-0063-4fab-9723-620a20563eda"
      },
      "source": [
        "# Print the percentage of people who want to buy the Hidden Farm coffee, by our model \n",
        "print(f'Expected percentage of people who want to buy Hidden Farm coffe is: %{round((486 / 702), 2)*100}')"
      ],
      "execution_count": 133,
      "outputs": [
        {
          "output_type": "stream",
          "text": [
            "Expected percentage of people who want to buy Hidden Farm coffe is: %69.0\n"
          ],
          "name": "stdout"
        }
      ]
    },
    {
      "cell_type": "markdown",
      "metadata": {
        "id": "9bRDyi6rDuXQ"
      },
      "source": [
        "## 4b. Decision\n",
        "Remember how you thought at the start: if more than 70% of the interviewed customers are likely to buy the Hidden Farm coffee, you will strike the deal with the local Hidden Farm farmers and sell the coffee. Otherwise, you won't strike the deal and the Hidden Farm coffee will remain in legends only. Well now's crunch time. Are you going to go ahead with that idea? If so, you won't be striking the deal with the Chinese farmers. \n",
        "\n",
        "They're called `decision trees`, aren't they? So where's the decision? What should you do? (Cue existential cat emoji). \n",
        "\n",
        "Ultimately, though, we can't write an algorithm to actually *make the business decision* for us. This is because such decisions depend on our values, what risks we are willing to take, the stakes of our decisions, and how important it us for us to *know* that we will succeed. What are you going to do with the models you've made? Are you going to risk everything, strike the deal with the *Hidden Farm* farmers, and sell the coffee? \n",
        "\n",
        "The philosopher of language Jason Stanley once wrote that the number of doubts our evidence has to rule out in order for us to know a given proposition depends on our stakes: the higher our stakes, the more doubts our evidence has to rule out, and therefore the harder it is for us to know things. We can end up paralyzed in predicaments; sometimes, we can act to better our situation only if we already know certain things, which we can only if our stakes were lower and we'd *already* bettered our situation. \n",
        "\n",
        "Data science and machine learning can't solve such problems. But what it can do is help us make great use of our data to help *inform* our decisions."
      ]
    },
    {
      "cell_type": "markdown",
      "metadata": {
        "id": "crWWrpdox8i-"
      },
      "source": [
        "## 5. Random Forest\n",
        "You might have noticed an important fact about decision trees. Each time we run a given decision tree algorithm to make a prediction (such as whether customers will buy the Hidden Farm coffee) we will actually get a slightly different result. This might seem weird, but it has a simple explanation: machine learning algorithms are by definition ***stochastic***, in that their output is at least partly determined by randomness. \n",
        "\n",
        "To account for this variability and ensure that we get the most accurate prediction, we might want to actually make lots of decision trees, and get a value that captures the centre or average of the outputs of those trees. Luckily, there's a method for this, known as the ***Random Forest***. \n",
        "\n",
        "Essentially, Random Forest involves making lots of trees with similar properties, and then performing summary statistics on the outputs of those trees to reach that central value. Random forests are hugely powerful classifers, and they can improve predictive accuracy and control over-fitting. \n",
        "\n",
        "Why not try to inform your decision with random forest? You'll need to make use of the RandomForestClassifier function within the sklearn.ensemble module, found [here](https://scikit-learn.org/stable/modules/generated/sklearn.ensemble.RandomForestClassifier.html). "
      ]
    },
    {
      "cell_type": "markdown",
      "metadata": {
        "id": "fI4fiVWq0IH9"
      },
      "source": [
        "### 5a. Import necessary modules"
      ]
    },
    {
      "cell_type": "code",
      "metadata": {
        "id": "vSRTnHnD0D-O"
      },
      "source": [
        "from sklearn.ensemble import RandomForestClassifier\n",
        "from sklearn.datasets import make_classification"
      ],
      "execution_count": 134,
      "outputs": []
    },
    {
      "cell_type": "markdown",
      "metadata": {
        "id": "jKmFvvjb0WB9"
      },
      "source": [
        "### 5b. Model\n",
        "You'll use your X_train and y_train variables just as before.\n",
        "\n",
        "You'll then need to make a variable (call it firstRFModel) to store your new Random Forest model. You'll assign this variable the result of calling RandomForestClassifier().\n",
        "\n",
        "Then, just as before, you'll call fit() on that firstRFModel variable, and plug in X_train and y_train.\n",
        "\n",
        "Finally, you should make a variable called y_pred, and assign it the result of calling the predict() method on your new firstRFModel, with the X_test data passed to it. "
      ]
    },
    {
      "cell_type": "code",
      "metadata": {
        "colab": {
          "base_uri": "https://localhost:8080/"
        },
        "id": "OQEeTiRG1aSm",
        "outputId": "29493709-28be-4327-82a3-a215dca9c237"
      },
      "source": [
        "# Plug in appropriate max_depth and random_state parameters \n",
        "RFModel = RandomForestClassifier(max_depth=3, random_state=42)\n",
        "\n",
        "# Model and fit\n",
        "RFModel.fit(X_train, y_train)\n",
        "\n",
        "#predict\n",
        "y_pred = RFModel.predict(X_test)\n",
        "y_pred = pd.Series(y_pred)\n",
        "\n",
        "print(\"Model Random Forest max depth 3\")\n",
        "print(\"Accuracy:\", metrics.accuracy_score(y_test,y_pred))\n",
        "print(\"Balanced accuracy:\", metrics.balanced_accuracy_score(y_test,y_pred))\n",
        "print('Precision score for \"Yes\"' , metrics.precision_score(y_test,y_pred, pos_label = \"YES\"))\n",
        "print('Recall score for \"No\"' , metrics.recall_score(y_test,y_pred, pos_label = \"NO\"))"
      ],
      "execution_count": 138,
      "outputs": [
        {
          "output_type": "stream",
          "text": [
            "Model Random Forest max depth 3\n",
            "Accuracy: 0.9327731092436975\n",
            "Balanced accuracy: 0.908223889931207\n",
            "Precision score for \"Yes\" 0.9166666666666666\n",
            "Recall score for \"No\" 0.8292682926829268\n"
          ],
          "name": "stdout"
        }
      ]
    },
    {
      "cell_type": "markdown",
      "metadata": {
        "id": "sCIt6pyn1zpb"
      },
      "source": [
        "### 5c. Revise conclusion\n",
        "\n",
        "Has your conclusion changed? Or is the result of executing random forest the same as your best model reached by a single decision tree? \n",
        "  \n",
        "* Well, it had worse metrics. But now were more confident on that the probability of overfitting has reduced. So it would be wiser to choose this model to get predictions of the number of buyers  "
      ]
    },
    {
      "cell_type": "code",
      "metadata": {
        "colab": {
          "base_uri": "https://localhost:8080/"
        },
        "id": "MqkVO8Dti2Kd",
        "outputId": "6996afce-d1e6-422a-f68e-f7f19200615d"
      },
      "source": [
        "# Predict the nmber of buyers\n",
        "RF_buyers = RFModel.predict(new_X)\n",
        "\n",
        "# Count the potential buyers\n",
        "np.unique(RF_buyers, return_counts=True)"
      ],
      "execution_count": 140,
      "outputs": [
        {
          "output_type": "execute_result",
          "data": {
            "text/plain": [
              "(array(['NO', 'YES'], dtype=object), array([ 41, 187]))"
            ]
          },
          "metadata": {
            "tags": []
          },
          "execution_count": 140
        }
      ]
    },
    {
      "cell_type": "code",
      "metadata": {
        "colab": {
          "base_uri": "https://localhost:8080/"
        },
        "id": "Nev_THgajKfV",
        "outputId": "7b356ee2-a628-4f87-82ac-58ee97e21dd7"
      },
      "source": [
        "perc_of_buyers = round((490 / 702), 2) * 100 \n",
        "print(f'Percentage of potential buyers: {perc_of_buyers}')"
      ],
      "execution_count": 141,
      "outputs": [
        {
          "output_type": "stream",
          "text": [
            "Percentage of potential buyers: 70.0\n"
          ],
          "name": "stdout"
        }
      ]
    }
  ]
}